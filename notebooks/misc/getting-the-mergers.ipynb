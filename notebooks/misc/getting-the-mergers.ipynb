{
 "cells": [
  {
   "cell_type": "code",
   "execution_count": 1,
   "id": "c321a480-d2ff-4db1-adf2-962c25cc2c7f",
   "metadata": {},
   "outputs": [],
   "source": [
    "import pandas as pd\n",
    "import pyarrow.parquet"
   ]
  },
  {
   "cell_type": "code",
   "execution_count": 2,
   "id": "af198e9e-8162-4408-8663-8ba5eebc7df8",
   "metadata": {},
   "outputs": [],
   "source": [
    "filename = 'E:/GZ-DESI/data/_desi_pytorch_v5_hpv2_train_all_notest_ml_catalog_x5_advanced.parquet'"
   ]
  },
  {
   "cell_type": "code",
   "execution_count": 3,
   "id": "9cc3bb3d-e684-47bb-b253-49f6cc793e63",
   "metadata": {},
   "outputs": [
    {
     "ename": "FileNotFoundError",
     "evalue": "[WinError 2] Failed to open local file 'E:/GZ-DESI/data/_desi_pytorch_v5_hpv2_train_all_notest_ml_catalog_x5_advanced.parquet'. Detail: [Windows error 2] The system cannot find the file specified.\r\n",
     "output_type": "error",
     "traceback": [
      "\u001b[1;31m---------------------------------------------------------------------------\u001b[0m",
      "\u001b[1;31mFileNotFoundError\u001b[0m                         Traceback (most recent call last)",
      "\u001b[1;32m~\\AppData\\Local\\Temp\\ipykernel_13564\\3849156492.py\u001b[0m in \u001b[0;36m<module>\u001b[1;34m\u001b[0m\n\u001b[1;32m----> 1\u001b[1;33m \u001b[0mschema\u001b[0m \u001b[1;33m=\u001b[0m \u001b[0mpyarrow\u001b[0m\u001b[1;33m.\u001b[0m\u001b[0mparquet\u001b[0m\u001b[1;33m.\u001b[0m\u001b[0mread_schema\u001b[0m\u001b[1;33m(\u001b[0m\u001b[0mfilename\u001b[0m\u001b[1;33m,\u001b[0m \u001b[0mmemory_map\u001b[0m \u001b[1;33m=\u001b[0m \u001b[1;32mTrue\u001b[0m\u001b[1;33m)\u001b[0m\u001b[1;33m\u001b[0m\u001b[1;33m\u001b[0m\u001b[0m\n\u001b[0m",
      "\u001b[1;32m~\\AppData\\Local\\Continuum\\anaconda3\\lib\\site-packages\\pyarrow\\parquet.py\u001b[0m in \u001b[0;36mread_schema\u001b[1;34m(where, memory_map)\u001b[0m\n\u001b[0;32m   2357\u001b[0m     \u001b[0mschema\u001b[0m \u001b[1;33m:\u001b[0m \u001b[0mpyarrow\u001b[0m\u001b[1;33m.\u001b[0m\u001b[0mSchema\u001b[0m\u001b[1;33m\u001b[0m\u001b[1;33m\u001b[0m\u001b[0m\n\u001b[0;32m   2358\u001b[0m     \"\"\"\n\u001b[1;32m-> 2359\u001b[1;33m     \u001b[1;32mreturn\u001b[0m \u001b[0mParquetFile\u001b[0m\u001b[1;33m(\u001b[0m\u001b[0mwhere\u001b[0m\u001b[1;33m,\u001b[0m \u001b[0mmemory_map\u001b[0m\u001b[1;33m=\u001b[0m\u001b[0mmemory_map\u001b[0m\u001b[1;33m)\u001b[0m\u001b[1;33m.\u001b[0m\u001b[0mschema\u001b[0m\u001b[1;33m.\u001b[0m\u001b[0mto_arrow_schema\u001b[0m\u001b[1;33m(\u001b[0m\u001b[1;33m)\u001b[0m\u001b[1;33m\u001b[0m\u001b[1;33m\u001b[0m\u001b[0m\n\u001b[0m",
      "\u001b[1;32m~\\AppData\\Local\\Continuum\\anaconda3\\lib\\site-packages\\pyarrow\\parquet.py\u001b[0m in \u001b[0;36m__init__\u001b[1;34m(self, source, metadata, common_metadata, read_dictionary, memory_map, buffer_size, pre_buffer, coerce_int96_timestamp_unit)\u001b[0m\n\u001b[0;32m    232\u001b[0m             \u001b[0mbuffer_size\u001b[0m\u001b[1;33m=\u001b[0m\u001b[0mbuffer_size\u001b[0m\u001b[1;33m,\u001b[0m \u001b[0mpre_buffer\u001b[0m\u001b[1;33m=\u001b[0m\u001b[0mpre_buffer\u001b[0m\u001b[1;33m,\u001b[0m\u001b[1;33m\u001b[0m\u001b[1;33m\u001b[0m\u001b[0m\n\u001b[0;32m    233\u001b[0m             \u001b[0mread_dictionary\u001b[0m\u001b[1;33m=\u001b[0m\u001b[0mread_dictionary\u001b[0m\u001b[1;33m,\u001b[0m \u001b[0mmetadata\u001b[0m\u001b[1;33m=\u001b[0m\u001b[0mmetadata\u001b[0m\u001b[1;33m,\u001b[0m\u001b[1;33m\u001b[0m\u001b[1;33m\u001b[0m\u001b[0m\n\u001b[1;32m--> 234\u001b[1;33m             \u001b[0mcoerce_int96_timestamp_unit\u001b[0m\u001b[1;33m=\u001b[0m\u001b[0mcoerce_int96_timestamp_unit\u001b[0m\u001b[1;33m\u001b[0m\u001b[1;33m\u001b[0m\u001b[0m\n\u001b[0m\u001b[0;32m    235\u001b[0m         )\n\u001b[0;32m    236\u001b[0m         \u001b[0mself\u001b[0m\u001b[1;33m.\u001b[0m\u001b[0mcommon_metadata\u001b[0m \u001b[1;33m=\u001b[0m \u001b[0mcommon_metadata\u001b[0m\u001b[1;33m\u001b[0m\u001b[1;33m\u001b[0m\u001b[0m\n",
      "\u001b[1;32m~\\AppData\\Local\\Continuum\\anaconda3\\lib\\site-packages\\pyarrow\\_parquet.pyx\u001b[0m in \u001b[0;36mpyarrow._parquet.ParquetReader.open\u001b[1;34m()\u001b[0m\n",
      "\u001b[1;32m~\\AppData\\Local\\Continuum\\anaconda3\\lib\\site-packages\\pyarrow\\io.pxi\u001b[0m in \u001b[0;36mpyarrow.lib.get_reader\u001b[1;34m()\u001b[0m\n",
      "\u001b[1;32m~\\AppData\\Local\\Continuum\\anaconda3\\lib\\site-packages\\pyarrow\\io.pxi\u001b[0m in \u001b[0;36mpyarrow.lib.get_native_file\u001b[1;34m()\u001b[0m\n",
      "\u001b[1;32m~\\AppData\\Local\\Continuum\\anaconda3\\lib\\site-packages\\pyarrow\\io.pxi\u001b[0m in \u001b[0;36mpyarrow.lib.memory_map\u001b[1;34m()\u001b[0m\n",
      "\u001b[1;32m~\\AppData\\Local\\Continuum\\anaconda3\\lib\\site-packages\\pyarrow\\io.pxi\u001b[0m in \u001b[0;36mpyarrow.lib.MemoryMappedFile._open\u001b[1;34m()\u001b[0m\n",
      "\u001b[1;32m~\\AppData\\Local\\Continuum\\anaconda3\\lib\\site-packages\\pyarrow\\error.pxi\u001b[0m in \u001b[0;36mpyarrow.lib.pyarrow_internal_check_status\u001b[1;34m()\u001b[0m\n",
      "\u001b[1;32m~\\AppData\\Local\\Continuum\\anaconda3\\lib\\site-packages\\pyarrow\\error.pxi\u001b[0m in \u001b[0;36mpyarrow.lib.check_status\u001b[1;34m()\u001b[0m\n",
      "\u001b[1;31mFileNotFoundError\u001b[0m: [WinError 2] Failed to open local file 'E:/GZ-DESI/data/_desi_pytorch_v5_hpv2_train_all_notest_ml_catalog_x5_advanced.parquet'. Detail: [Windows error 2] The system cannot find the file specified.\r\n"
     ]
    }
   ],
   "source": [
    "schema = pyarrow.parquet.read_schema(filename, memory_map = True)"
   ]
  },
  {
   "cell_type": "code",
   "execution_count": null,
   "id": "aeba41bb-dfb9-4486-ae79-c45d96df7636",
   "metadata": {},
   "outputs": [],
   "source": [
    "schema"
   ]
  },
  {
   "cell_type": "markdown",
   "id": "4b2f0a13-953d-4d96-abbe-9bc598de5935",
   "metadata": {},
   "source": [
    "### Importing Data"
   ]
  },
  {
   "cell_type": "code",
   "execution_count": 3,
   "id": "81a3ed13-816f-4f57-949d-0a5dfab10a7c",
   "metadata": {},
   "outputs": [],
   "source": [
    "df = pd.read_parquet(filename, engine = 'pyarrow', columns = ['id_str', 'merging_none_fraction', 'merging_minor-disturbance_fraction', 'merging_major-disturbance_fraction', 'merging_merger_fraction'])"
   ]
  },
  {
   "cell_type": "code",
   "execution_count": 4,
   "id": "5ea16f3c-3571-4ed5-93e2-3524c167a838",
   "metadata": {},
   "outputs": [
    {
     "data": {
      "text/plain": [
       "'388972_4019'"
      ]
     },
     "execution_count": 4,
     "metadata": {},
     "output_type": "execute_result"
    }
   ],
   "source": [
    "df.id_str.iloc[0]"
   ]
  },
  {
   "cell_type": "code",
   "execution_count": 3,
   "id": "9a7857c0-9d23-4ab5-8607-f794f5d551b8",
   "metadata": {},
   "outputs": [
    {
     "data": {
      "text/html": [
       "<div>\n",
       "<style scoped>\n",
       "    .dataframe tbody tr th:only-of-type {\n",
       "        vertical-align: middle;\n",
       "    }\n",
       "\n",
       "    .dataframe tbody tr th {\n",
       "        vertical-align: top;\n",
       "    }\n",
       "\n",
       "    .dataframe thead th {\n",
       "        text-align: right;\n",
       "    }\n",
       "</style>\n",
       "<table border=\"1\" class=\"dataframe\">\n",
       "  <thead>\n",
       "    <tr style=\"text-align: right;\">\n",
       "      <th></th>\n",
       "      <th>id_str</th>\n",
       "      <th>hdf5_loc</th>\n",
       "      <th>merging_none_fraction</th>\n",
       "      <th>merging_minor-disturbance_fraction</th>\n",
       "      <th>merging_major-disturbance_fraction</th>\n",
       "      <th>merging_merger_fraction</th>\n",
       "    </tr>\n",
       "  </thead>\n",
       "  <tbody>\n",
       "    <tr>\n",
       "      <th>37</th>\n",
       "      <td>388975_4015</td>\n",
       "      <td>_desi_pytorch_v5_hpv2_train_all_notest_all.hdf5</td>\n",
       "      <td>0.109286</td>\n",
       "      <td>0.051234</td>\n",
       "      <td>0.068933</td>\n",
       "      <td>0.770546</td>\n",
       "    </tr>\n",
       "    <tr>\n",
       "      <th>38</th>\n",
       "      <td>388975_4016</td>\n",
       "      <td>_desi_pytorch_v5_hpv2_train_all_notest_all.hdf5</td>\n",
       "      <td>0.093990</td>\n",
       "      <td>0.046352</td>\n",
       "      <td>0.065630</td>\n",
       "      <td>0.794028</td>\n",
       "    </tr>\n",
       "    <tr>\n",
       "      <th>175</th>\n",
       "      <td>388982_6338</td>\n",
       "      <td>_desi_pytorch_v5_hpv2_train_all_notest_all.hdf5</td>\n",
       "      <td>0.239944</td>\n",
       "      <td>0.173024</td>\n",
       "      <td>0.325143</td>\n",
       "      <td>0.261890</td>\n",
       "    </tr>\n",
       "    <tr>\n",
       "      <th>284</th>\n",
       "      <td>391820_2807</td>\n",
       "      <td>_desi_pytorch_v5_hpv2_train_all_notest_all.hdf5</td>\n",
       "      <td>0.166768</td>\n",
       "      <td>0.139567</td>\n",
       "      <td>0.221040</td>\n",
       "      <td>0.472625</td>\n",
       "    </tr>\n",
       "    <tr>\n",
       "      <th>325</th>\n",
       "      <td>388987_6060</td>\n",
       "      <td>_desi_pytorch_v5_hpv2_train_all_notest_all.hdf5</td>\n",
       "      <td>0.245145</td>\n",
       "      <td>0.298189</td>\n",
       "      <td>0.316492</td>\n",
       "      <td>0.140175</td>\n",
       "    </tr>\n",
       "    <tr>\n",
       "      <th>...</th>\n",
       "      <td>...</td>\n",
       "      <td>...</td>\n",
       "      <td>...</td>\n",
       "      <td>...</td>\n",
       "      <td>...</td>\n",
       "      <td>...</td>\n",
       "    </tr>\n",
       "    <tr>\n",
       "      <th>8689136</th>\n",
       "      <td>444046_118</td>\n",
       "      <td>_desi_pytorch_v5_hpv2_train_all_notest_all.hdf5</td>\n",
       "      <td>0.223829</td>\n",
       "      <td>0.187289</td>\n",
       "      <td>0.290632</td>\n",
       "      <td>0.298250</td>\n",
       "    </tr>\n",
       "    <tr>\n",
       "      <th>8689150</th>\n",
       "      <td>441331_4410</td>\n",
       "      <td>_desi_pytorch_v5_hpv2_train_all_notest_all.hdf5</td>\n",
       "      <td>0.201276</td>\n",
       "      <td>0.157609</td>\n",
       "      <td>0.293251</td>\n",
       "      <td>0.347865</td>\n",
       "    </tr>\n",
       "    <tr>\n",
       "      <th>8689204</th>\n",
       "      <td>442689_841</td>\n",
       "      <td>_desi_pytorch_v5_hpv2_train_all_notest_all.hdf5</td>\n",
       "      <td>0.123353</td>\n",
       "      <td>0.086006</td>\n",
       "      <td>0.224713</td>\n",
       "      <td>0.565928</td>\n",
       "    </tr>\n",
       "    <tr>\n",
       "      <th>8689223</th>\n",
       "      <td>442690_1552</td>\n",
       "      <td>_desi_pytorch_v5_hpv2_train_all_notest_all.hdf5</td>\n",
       "      <td>0.081414</td>\n",
       "      <td>0.047764</td>\n",
       "      <td>0.105524</td>\n",
       "      <td>0.765298</td>\n",
       "    </tr>\n",
       "    <tr>\n",
       "      <th>8689224</th>\n",
       "      <td>442690_1559</td>\n",
       "      <td>_desi_pytorch_v5_hpv2_train_all_notest_all.hdf5</td>\n",
       "      <td>0.089008</td>\n",
       "      <td>0.052199</td>\n",
       "      <td>0.104537</td>\n",
       "      <td>0.754257</td>\n",
       "    </tr>\n",
       "  </tbody>\n",
       "</table>\n",
       "<p>157638 rows × 6 columns</p>\n",
       "</div>"
      ],
      "text/plain": [
       "              id_str                                         hdf5_loc  \\\n",
       "37       388975_4015  _desi_pytorch_v5_hpv2_train_all_notest_all.hdf5   \n",
       "38       388975_4016  _desi_pytorch_v5_hpv2_train_all_notest_all.hdf5   \n",
       "175      388982_6338  _desi_pytorch_v5_hpv2_train_all_notest_all.hdf5   \n",
       "284      391820_2807  _desi_pytorch_v5_hpv2_train_all_notest_all.hdf5   \n",
       "325      388987_6060  _desi_pytorch_v5_hpv2_train_all_notest_all.hdf5   \n",
       "...              ...                                              ...   \n",
       "8689136   444046_118  _desi_pytorch_v5_hpv2_train_all_notest_all.hdf5   \n",
       "8689150  441331_4410  _desi_pytorch_v5_hpv2_train_all_notest_all.hdf5   \n",
       "8689204   442689_841  _desi_pytorch_v5_hpv2_train_all_notest_all.hdf5   \n",
       "8689223  442690_1552  _desi_pytorch_v5_hpv2_train_all_notest_all.hdf5   \n",
       "8689224  442690_1559  _desi_pytorch_v5_hpv2_train_all_notest_all.hdf5   \n",
       "\n",
       "         merging_none_fraction  merging_minor-disturbance_fraction  \\\n",
       "37                    0.109286                            0.051234   \n",
       "38                    0.093990                            0.046352   \n",
       "175                   0.239944                            0.173024   \n",
       "284                   0.166768                            0.139567   \n",
       "325                   0.245145                            0.298189   \n",
       "...                        ...                                 ...   \n",
       "8689136               0.223829                            0.187289   \n",
       "8689150               0.201276                            0.157609   \n",
       "8689204               0.123353                            0.086006   \n",
       "8689223               0.081414                            0.047764   \n",
       "8689224               0.089008                            0.052199   \n",
       "\n",
       "         merging_major-disturbance_fraction  merging_merger_fraction  \n",
       "37                                 0.068933                 0.770546  \n",
       "38                                 0.065630                 0.794028  \n",
       "175                                0.325143                 0.261890  \n",
       "284                                0.221040                 0.472625  \n",
       "325                                0.316492                 0.140175  \n",
       "...                                     ...                      ...  \n",
       "8689136                            0.290632                 0.298250  \n",
       "8689150                            0.293251                 0.347865  \n",
       "8689204                            0.224713                 0.565928  \n",
       "8689223                            0.105524                 0.765298  \n",
       "8689224                            0.104537                 0.754257  \n",
       "\n",
       "[157638 rows x 6 columns]"
      ]
     },
     "execution_count": 3,
     "metadata": {},
     "output_type": "execute_result"
    }
   ],
   "source": [
    "df_merging = df.query('merging_none_fraction <= 0.25')\n",
    "df_merging"
   ]
  },
  {
   "cell_type": "code",
   "execution_count": 4,
   "id": "25b7f297-e6bf-4d96-a2b7-526b71307af7",
   "metadata": {},
   "outputs": [],
   "source": [
    "df_merging.to_parquet('E:/GZ-DESI/data/int-predicted-cats.parquet')"
   ]
  },
  {
   "cell_type": "code",
   "execution_count": null,
   "id": "05feee73-c095-4012-9c12-028b07d0f025",
   "metadata": {},
   "outputs": [],
   "source": []
  }
 ],
 "metadata": {
  "kernelspec": {
   "display_name": "Python 3 (ipykernel)",
   "language": "python",
   "name": "python3"
  },
  "language_info": {
   "codemirror_mode": {
    "name": "ipython",
    "version": 3
   },
   "file_extension": ".py",
   "mimetype": "text/x-python",
   "name": "python",
   "nbconvert_exporter": "python",
   "pygments_lexer": "ipython3",
   "version": "3.7.13"
  }
 },
 "nbformat": 4,
 "nbformat_minor": 5
}
