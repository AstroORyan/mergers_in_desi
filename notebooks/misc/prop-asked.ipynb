{
 "cells": [
  {
   "cell_type": "code",
   "execution_count": 1,
   "id": "4e811c8e-3ee8-4ea8-a5bf-2dc4994e4547",
   "metadata": {},
   "outputs": [],
   "source": [
    "import pandas as pd"
   ]
  },
  {
   "cell_type": "code",
   "execution_count": 2,
   "id": "28936518-3d2a-4192-83d3-9ad8ac3eeace",
   "metadata": {},
   "outputs": [],
   "source": [
    "filename = 'E:/GZ-DESI/data/_desi_pytorch_v5_hpv2_train_all_notest_ml_catalog_x5_advanced.parquet'"
   ]
  },
  {
   "cell_type": "code",
   "execution_count": 3,
   "id": "60b87f2c-5b43-4265-b6ed-362644936a3d",
   "metadata": {},
   "outputs": [],
   "source": [
    "df = pd.read_parquet(filename, engine = 'pyarrow', columns = ['id_str', 'merging_none_proportion-asked', 'merging_minor-disturbance_proportion-asked', 'merging_major-disturbance_proportion-asked', 'merging_merger_proportion-asked'])"
   ]
  },
  {
   "cell_type": "code",
   "execution_count": 12,
   "id": "c77b3291-f4f6-4234-8f76-ecaa682cae35",
   "metadata": {},
   "outputs": [
    {
     "data": {
      "text/plain": [
       "1.0"
      ]
     },
     "execution_count": 12,
     "metadata": {},
     "output_type": "execute_result"
    }
   ],
   "source": [
    "df['merging_merger_proportion-asked'].min()"
   ]
  },
  {
   "cell_type": "code",
   "execution_count": null,
   "id": "cd86a8cd-4f55-4e31-bd62-9895b79d302d",
   "metadata": {},
   "outputs": [],
   "source": []
  }
 ],
 "metadata": {
  "kernelspec": {
   "display_name": "Python 3 (ipykernel)",
   "language": "python",
   "name": "python3"
  },
  "language_info": {
   "codemirror_mode": {
    "name": "ipython",
    "version": 3
   },
   "file_extension": ".py",
   "mimetype": "text/x-python",
   "name": "python",
   "nbconvert_exporter": "python",
   "pygments_lexer": "ipython3",
   "version": "3.7.13"
  }
 },
 "nbformat": 4,
 "nbformat_minor": 5
}
