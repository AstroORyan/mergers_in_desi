{
 "cells": [
  {
   "cell_type": "code",
   "execution_count": 1,
   "id": "189cb504-49fb-4387-aea6-bf6370ba7e4c",
   "metadata": {},
   "outputs": [],
   "source": [
    "import pandas as pd\n",
    "from tqdm import tqdm\n",
    "tqdm.pandas()"
   ]
  },
  {
   "cell_type": "code",
   "execution_count": 2,
   "id": "9fb3e8a1-be2b-445b-aa9c-e87bdf20c6e4",
   "metadata": {},
   "outputs": [],
   "source": [
    "filename = 'E:/GZ-DESI/data/raw-cats/_desi_pytorch_v5_hpv2_train_all_notest_ml_catalog_x5_advanced.parquet'"
   ]
  },
  {
   "cell_type": "code",
   "execution_count": 3,
   "id": "d3a1c0de-34f2-4351-bf36-32c4520e0d1a",
   "metadata": {},
   "outputs": [],
   "source": [
    "df = pd.read_parquet(filename, engine = 'pyarrow', columns = ['id_str', 'merging_none_fraction', 'merging_minor-disturbance_fraction', 'merging_major-disturbance_fraction', 'merging_merger_fraction'])"
   ]
  },
  {
   "cell_type": "code",
   "execution_count": 4,
   "id": "07641716-b076-423f-a36f-439e057e5e2d",
   "metadata": {},
   "outputs": [
    {
     "data": {
      "text/html": [
       "<div>\n",
       "<style scoped>\n",
       "    .dataframe tbody tr th:only-of-type {\n",
       "        vertical-align: middle;\n",
       "    }\n",
       "\n",
       "    .dataframe tbody tr th {\n",
       "        vertical-align: top;\n",
       "    }\n",
       "\n",
       "    .dataframe thead th {\n",
       "        text-align: right;\n",
       "    }\n",
       "</style>\n",
       "<table border=\"1\" class=\"dataframe\">\n",
       "  <thead>\n",
       "    <tr style=\"text-align: right;\">\n",
       "      <th></th>\n",
       "      <th>id_str</th>\n",
       "      <th>merging_none_fraction</th>\n",
       "      <th>merging_minor-disturbance_fraction</th>\n",
       "      <th>merging_major-disturbance_fraction</th>\n",
       "      <th>merging_merger_fraction</th>\n",
       "    </tr>\n",
       "  </thead>\n",
       "  <tbody>\n",
       "    <tr>\n",
       "      <th>0</th>\n",
       "      <td>388972_4019</td>\n",
       "      <td>0.808271</td>\n",
       "      <td>0.129232</td>\n",
       "      <td>0.035381</td>\n",
       "      <td>0.027116</td>\n",
       "    </tr>\n",
       "    <tr>\n",
       "      <th>1</th>\n",
       "      <td>388972_4570</td>\n",
       "      <td>0.765248</td>\n",
       "      <td>0.095092</td>\n",
       "      <td>0.063911</td>\n",
       "      <td>0.075749</td>\n",
       "    </tr>\n",
       "    <tr>\n",
       "      <th>2</th>\n",
       "      <td>388972_4156</td>\n",
       "      <td>0.853088</td>\n",
       "      <td>0.110454</td>\n",
       "      <td>0.022176</td>\n",
       "      <td>0.014282</td>\n",
       "    </tr>\n",
       "    <tr>\n",
       "      <th>3</th>\n",
       "      <td>388972_5110</td>\n",
       "      <td>0.882172</td>\n",
       "      <td>0.082921</td>\n",
       "      <td>0.020319</td>\n",
       "      <td>0.014588</td>\n",
       "    </tr>\n",
       "    <tr>\n",
       "      <th>4</th>\n",
       "      <td>388973_5576</td>\n",
       "      <td>0.868599</td>\n",
       "      <td>0.098728</td>\n",
       "      <td>0.022844</td>\n",
       "      <td>0.009828</td>\n",
       "    </tr>\n",
       "    <tr>\n",
       "      <th>...</th>\n",
       "      <td>...</td>\n",
       "      <td>...</td>\n",
       "      <td>...</td>\n",
       "      <td>...</td>\n",
       "      <td>...</td>\n",
       "    </tr>\n",
       "    <tr>\n",
       "      <th>8689365</th>\n",
       "      <td>444048_423</td>\n",
       "      <td>0.742853</td>\n",
       "      <td>0.135686</td>\n",
       "      <td>0.047769</td>\n",
       "      <td>0.073692</td>\n",
       "    </tr>\n",
       "    <tr>\n",
       "      <th>8689366</th>\n",
       "      <td>444048_424</td>\n",
       "      <td>0.796766</td>\n",
       "      <td>0.096348</td>\n",
       "      <td>0.046435</td>\n",
       "      <td>0.060451</td>\n",
       "    </tr>\n",
       "    <tr>\n",
       "      <th>8689367</th>\n",
       "      <td>444048_774</td>\n",
       "      <td>0.839374</td>\n",
       "      <td>0.127835</td>\n",
       "      <td>0.020739</td>\n",
       "      <td>0.012052</td>\n",
       "    </tr>\n",
       "    <tr>\n",
       "      <th>8689368</th>\n",
       "      <td>444048_663</td>\n",
       "      <td>0.742348</td>\n",
       "      <td>0.161078</td>\n",
       "      <td>0.032188</td>\n",
       "      <td>0.064385</td>\n",
       "    </tr>\n",
       "    <tr>\n",
       "      <th>8689369</th>\n",
       "      <td>444045_1258</td>\n",
       "      <td>0.889515</td>\n",
       "      <td>0.080444</td>\n",
       "      <td>0.019009</td>\n",
       "      <td>0.011031</td>\n",
       "    </tr>\n",
       "  </tbody>\n",
       "</table>\n",
       "<p>8689370 rows × 5 columns</p>\n",
       "</div>"
      ],
      "text/plain": [
       "              id_str  merging_none_fraction  \\\n",
       "0        388972_4019               0.808271   \n",
       "1        388972_4570               0.765248   \n",
       "2        388972_4156               0.853088   \n",
       "3        388972_5110               0.882172   \n",
       "4        388973_5576               0.868599   \n",
       "...              ...                    ...   \n",
       "8689365   444048_423               0.742853   \n",
       "8689366   444048_424               0.796766   \n",
       "8689367   444048_774               0.839374   \n",
       "8689368   444048_663               0.742348   \n",
       "8689369  444045_1258               0.889515   \n",
       "\n",
       "         merging_minor-disturbance_fraction  \\\n",
       "0                                  0.129232   \n",
       "1                                  0.095092   \n",
       "2                                  0.110454   \n",
       "3                                  0.082921   \n",
       "4                                  0.098728   \n",
       "...                                     ...   \n",
       "8689365                            0.135686   \n",
       "8689366                            0.096348   \n",
       "8689367                            0.127835   \n",
       "8689368                            0.161078   \n",
       "8689369                            0.080444   \n",
       "\n",
       "         merging_major-disturbance_fraction  merging_merger_fraction  \n",
       "0                                  0.035381                 0.027116  \n",
       "1                                  0.063911                 0.075749  \n",
       "2                                  0.022176                 0.014282  \n",
       "3                                  0.020319                 0.014588  \n",
       "4                                  0.022844                 0.009828  \n",
       "...                                     ...                      ...  \n",
       "8689365                            0.047769                 0.073692  \n",
       "8689366                            0.046435                 0.060451  \n",
       "8689367                            0.020739                 0.012052  \n",
       "8689368                            0.032188                 0.064385  \n",
       "8689369                            0.019009                 0.011031  \n",
       "\n",
       "[8689370 rows x 5 columns]"
      ]
     },
     "execution_count": 4,
     "metadata": {},
     "output_type": "execute_result"
    }
   ],
   "source": [
    "df"
   ]
  },
  {
   "cell_type": "code",
   "execution_count": 5,
   "id": "0ac09c25-2fbf-46ca-94fd-f2d6923f1631",
   "metadata": {},
   "outputs": [],
   "source": [
    "def categorising(none, minor, major, merger):\n",
    "    if none > minor and none > major and none > merger:\n",
    "        if none < 0.50:\n",
    "            return 'uncertain'\n",
    "        else:\n",
    "            return 'none'\n",
    "    elif minor > none and minor > major and minor > merger:\n",
    "        if minor < 0.50:\n",
    "            return 'uncertain'\n",
    "        else:\n",
    "            return 'minor_disturbance'\n",
    "    elif major > none and major > minor and major > merger:\n",
    "        if major < 0.50:\n",
    "            return 'uncertain'\n",
    "        else:\n",
    "            return 'major_disturbance'\n",
    "    elif merger > none and merger > minor and merger > major:\n",
    "        if merger < 0.50:\n",
    "            return 'uncertain'\n",
    "        else:\n",
    "            return 'merger'\n",
    "    \n",
    "    if none == minor or none == major or none == merger:\n",
    "        return 'investigate'\n",
    "    elif minor == major or minor == merger:\n",
    "        return 'investigate'\n",
    "    elif major == merger:\n",
    "        return 'investigate'\n",
    "    \n",
    "    return 'Did not work'"
   ]
  },
  {
   "cell_type": "code",
   "execution_count": 6,
   "id": "60838302-75bd-43e9-b666-6e2e0c69cf3d",
   "metadata": {},
   "outputs": [
    {
     "name": "stderr",
     "output_type": "stream",
     "text": [
      "100%|██████████| 8689370/8689370 [07:36<00:00, 19048.87it/s]\n"
     ]
    }
   ],
   "source": [
    "df_cat = (\n",
    "    df\n",
    "    .assign(category = df.progress_apply(lambda row: categorising(row.merging_none_fraction, row['merging_minor-disturbance_fraction'], row['merging_major-disturbance_fraction'], row.merging_merger_fraction), axis = 1))\n",
    ")"
   ]
  },
  {
   "cell_type": "code",
   "execution_count": 7,
   "id": "19746f6f-5214-4915-b74d-15d33e53e0fe",
   "metadata": {},
   "outputs": [
    {
     "data": {
      "text/plain": [
       "8689370"
      ]
     },
     "execution_count": 7,
     "metadata": {},
     "output_type": "execute_result"
    }
   ],
   "source": [
    "len(df_cat)"
   ]
  },
  {
   "cell_type": "code",
   "execution_count": 8,
   "id": "6c0bb793-4a1e-457e-afab-32be6584d601",
   "metadata": {},
   "outputs": [
    {
     "data": {
      "text/plain": [
       "none                 7744244\n",
       "uncertain             747987\n",
       "merger                185278\n",
       "major_disturbance      11594\n",
       "minor_disturbance        267\n",
       "Name: category, dtype: int64"
      ]
     },
     "execution_count": 8,
     "metadata": {},
     "output_type": "execute_result"
    }
   ],
   "source": [
    "df_cat.category.value_counts()"
   ]
  },
  {
   "cell_type": "code",
   "execution_count": 9,
   "id": "0e79c76e-a631-463d-8bac-963e0a009bc4",
   "metadata": {},
   "outputs": [
    {
     "data": {
      "text/plain": [
       "none                 0.891232\n",
       "uncertain            0.086081\n",
       "merger               0.021322\n",
       "major_disturbance    0.001334\n",
       "minor_disturbance    0.000031\n",
       "Name: category, dtype: float64"
      ]
     },
     "execution_count": 9,
     "metadata": {},
     "output_type": "execute_result"
    }
   ],
   "source": [
    "df_cat.category.value_counts() / len(df_cat)"
   ]
  },
  {
   "cell_type": "code",
   "execution_count": 11,
   "id": "a59f7946-0172-48bc-81b4-b3d348ce30c1",
   "metadata": {},
   "outputs": [],
   "source": [
    "df_non = df_cat.query('category == \"none\"')"
   ]
  },
  {
   "cell_type": "code",
   "execution_count": 10,
   "id": "21f561d0-ca65-4e88-ae51-284c33d902f8",
   "metadata": {},
   "outputs": [],
   "source": [
    "df_int = df_cat.query('category != \"none\"')"
   ]
  },
  {
   "cell_type": "code",
   "execution_count": 12,
   "id": "d0a6f41d-46e6-4896-baab-dbf0082db5bc",
   "metadata": {},
   "outputs": [],
   "source": [
    "df_def = df_int.query('category != \"uncertain\"')"
   ]
  },
  {
   "cell_type": "code",
   "execution_count": 13,
   "id": "31d84333-4e71-4316-811e-1bc656b03351",
   "metadata": {},
   "outputs": [],
   "source": [
    "df_def.to_parquet('E:\\GZ-DESI\\data\\definitive-predicted-int.parquet')"
   ]
  },
  {
   "cell_type": "code",
   "execution_count": 14,
   "id": "0ad2cba7-7449-4044-87e6-a2f8351ac438",
   "metadata": {},
   "outputs": [],
   "source": [
    "df_uncertain = df_int.query('category == \"uncertain\"')"
   ]
  },
  {
   "cell_type": "code",
   "execution_count": 15,
   "id": "b5ba7ebd-2d06-4733-9ea1-8faaabd79248",
   "metadata": {},
   "outputs": [],
   "source": [
    "df_uncertain.to_parquet('E:/GZ-DESI/data/uncertain-predicted-int.parquet')"
   ]
  },
  {
   "cell_type": "code",
   "execution_count": 16,
   "id": "5f7c2a7b-7137-4d5f-a370-e4cb6416471e",
   "metadata": {},
   "outputs": [],
   "source": [
    "df_non.to_parquet('E:/GZ-DESI/data/non-interacting-predicted-int.parquet')"
   ]
  },
  {
   "cell_type": "code",
   "execution_count": null,
   "id": "aa709dd8-7474-4f73-9bab-ee6364a10234",
   "metadata": {},
   "outputs": [],
   "source": []
  }
 ],
 "metadata": {
  "kernelspec": {
   "display_name": "Python 3 (ipykernel)",
   "language": "python",
   "name": "python3"
  },
  "language_info": {
   "codemirror_mode": {
    "name": "ipython",
    "version": 3
   },
   "file_extension": ".py",
   "mimetype": "text/x-python",
   "name": "python",
   "nbconvert_exporter": "python",
   "pygments_lexer": "ipython3",
   "version": "3.7.13"
  }
 },
 "nbformat": 4,
 "nbformat_minor": 5
}
