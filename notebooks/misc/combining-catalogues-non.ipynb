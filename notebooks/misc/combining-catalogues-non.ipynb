{
 "cells": [
  {
   "cell_type": "code",
   "execution_count": 2,
   "id": "8a46636a-f07c-43bd-9389-e3101942157c",
   "metadata": {},
   "outputs": [],
   "source": [
    "import pandas as pd"
   ]
  },
  {
   "cell_type": "code",
   "execution_count": 4,
   "id": "4eb917ec-1ac2-4448-bf59-a2646ad93692",
   "metadata": {},
   "outputs": [],
   "source": [
    "folder = 'E:/GZ-DESI/data'"
   ]
  },
  {
   "cell_type": "code",
   "execution_count": 3,
   "id": "03d2a54b-90d4-428c-8e7b-1d8d5d431b1d",
   "metadata": {},
   "outputs": [],
   "source": [
    "df = pd.read_parquet(f'{folder}/2023-03-15-cats/non-interacting-predicted-int.parquet', engine = 'pyarrow')"
   ]
  },
  {
   "cell_type": "code",
   "execution_count": 4,
   "id": "8be73ddb-1428-47de-b670-6db2f846ca7e",
   "metadata": {},
   "outputs": [],
   "source": [
    "df_red = df[['id_str', 'category']]"
   ]
  },
  {
   "cell_type": "code",
   "execution_count": 5,
   "id": "f303b2a1-8273-4b41-a8c0-3408281b2870",
   "metadata": {},
   "outputs": [],
   "source": [
    "df_cat = pd.read_parquet(f'{folder}/raw-cats/external_catalog.parquet', engine = 'pyarrow')"
   ]
  },
  {
   "cell_type": "code",
   "execution_count": 6,
   "id": "73c66cdc-5f52-4622-840c-734f4db249a5",
   "metadata": {},
   "outputs": [],
   "source": [
    "del df"
   ]
  },
  {
   "cell_type": "code",
   "execution_count": 7,
   "id": "8e48be71-a213-43cb-9587-b499f247c90c",
   "metadata": {},
   "outputs": [],
   "source": [
    "df_rename = df_cat.rename(columns = {'dr8_id' : 'id_str'})\n",
    "del df_cat"
   ]
  },
  {
   "cell_type": "code",
   "execution_count": 8,
   "id": "d5842427-eaf0-425b-b7fd-0dba3f5bd650",
   "metadata": {},
   "outputs": [
    {
     "data": {
      "text/plain": [
       "Index(['id_str', 'iauname', 'png_loc', 'ra', 'dec', 'est_petro_th50',\n",
       "       'petro_theta', 'petro_th50', 'petro_th90', 'petro_phi50',\n",
       "       ...\n",
       "       'mass_med_photoz', 'mass_sup_photoz', 'sfr_inf_photoz',\n",
       "       'sfr_sup_photoz', 'ssfr_inf_photoz', 'ssfr_med_photoz',\n",
       "       'ssfr_sup_photoz', 'sky_separation_arcsec_from_photoz', 'redshift',\n",
       "       'est_petro_th50_kpc'],\n",
       "      dtype='object', length=127)"
      ]
     },
     "execution_count": 8,
     "metadata": {},
     "output_type": "execute_result"
    }
   ],
   "source": [
    "df_rename.columns"
   ]
  },
  {
   "cell_type": "code",
   "execution_count": 9,
   "id": "164978ef-a1fc-47ce-9154-2d301594e35b",
   "metadata": {},
   "outputs": [],
   "source": [
    "df_merged = df_red.merge(df_rename, on = 'id_str', how='left')\n",
    "del df_rename"
   ]
  },
  {
   "cell_type": "code",
   "execution_count": 13,
   "id": "29bbc798-1250-4f5a-9bba-935334c067a0",
   "metadata": {},
   "outputs": [],
   "source": [
    "df_merged.to_parquet(f'{folder}/2023-03-15-cats/non-int-predicted-catmerged.parquet')"
   ]
  },
  {
   "cell_type": "markdown",
   "id": "2fbe87d4-f80f-4e3d-b4a9-ec8b443343b8",
   "metadata": {},
   "source": [
    "### Extracting Parameters of Interest"
   ]
  },
  {
   "cell_type": "code",
   "execution_count": 5,
   "id": "7ea9a59a-c92c-4e74-bacc-d64496bab074",
   "metadata": {},
   "outputs": [],
   "source": [
    "df = pd.read_parquet(f'{folder}/2023-03-15-cats/non-int-predicted-catmerged.parquet', engine = 'pyarrow')"
   ]
  },
  {
   "cell_type": "code",
   "execution_count": 7,
   "id": "60b78211-c721-4010-a76e-5898fb3c9950",
   "metadata": {},
   "outputs": [],
   "source": [
    "df_red = df[[\n",
    "    'id_str',\n",
    "    'category',\n",
    "    'ra',\n",
    "    'dec',\n",
    "    'log_l_ha',\n",
    "    'log_l_oiii',\n",
    "    'photo_z',\n",
    "    'spec_z',\n",
    "    'redshift',\n",
    "    'redshift_nsa',\n",
    "    'total_sfr_avg',\n",
    "    'elpetro_mass',\n",
    "    'logMH',\n",
    "    'elpetro_mass_log',\n",
    "    'log_m_bh',\n",
    "    'log_bolometric_l'\n",
    "]]"
   ]
  },
  {
   "cell_type": "code",
   "execution_count": 8,
   "id": "f38e4f03-f281-400f-90f9-c886e892207a",
   "metadata": {},
   "outputs": [],
   "source": [
    "del df"
   ]
  },
  {
   "cell_type": "code",
   "execution_count": 9,
   "id": "2a1cd8c6-8797-43d5-ae96-d04c9ad4ac1d",
   "metadata": {},
   "outputs": [],
   "source": [
    "df_red.to_parquet('E:/GZ-DESI/data/2023-03-15-cats/definitive-not-merged-interesting-params.parquet')"
   ]
  },
  {
   "cell_type": "code",
   "execution_count": null,
   "id": "0412f14e-29ad-47ee-a998-2b6e9f82e4e6",
   "metadata": {},
   "outputs": [],
   "source": []
  }
 ],
 "metadata": {
  "kernelspec": {
   "display_name": "Python 3 (ipykernel)",
   "language": "python",
   "name": "python3"
  },
  "language_info": {
   "codemirror_mode": {
    "name": "ipython",
    "version": 3
   },
   "file_extension": ".py",
   "mimetype": "text/x-python",
   "name": "python",
   "nbconvert_exporter": "python",
   "pygments_lexer": "ipython3",
   "version": "3.7.13"
  }
 },
 "nbformat": 4,
 "nbformat_minor": 5
}
