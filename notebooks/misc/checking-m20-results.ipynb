{
 "cells": [
  {
   "cell_type": "code",
   "execution_count": 2,
   "id": "87d67bc8-762e-48c7-add0-321152f791f6",
   "metadata": {},
   "outputs": [],
   "source": [
    "import pandas as pd\n",
    "import matplotlib.pyplot as plt"
   ]
  },
  {
   "cell_type": "code",
   "execution_count": 3,
   "id": "d1f1a685-bbb1-45c1-bb3b-8ea809619122",
   "metadata": {},
   "outputs": [],
   "source": [
    "folder = 'C:/Users/oryan/Documents/galaxy-zoo-desi/results'"
   ]
  },
  {
   "cell_type": "code",
   "execution_count": 4,
   "id": "704b12e3-0a72-47ad-8197-b55c8f128af4",
   "metadata": {},
   "outputs": [],
   "source": [
    "df_orig = pd.read_csv(f'{folder}/gini-m20s.csv', index_col = 0)"
   ]
  },
  {
   "cell_type": "code",
   "execution_count": 6,
   "id": "94728ad7-8f85-4e39-811a-23f07ef2d5bf",
   "metadata": {},
   "outputs": [],
   "source": [
    "df_redone = pd.read_csv(f'{folder}/gini-m20s-faster.csv', index_col = 0)"
   ]
  },
  {
   "cell_type": "code",
   "execution_count": 14,
   "id": "e638e4f9-148e-4387-8056-c3d89c0e2f42",
   "metadata": {},
   "outputs": [],
   "source": [
    "df_red = df_redone[['id_str', 'm20']].rename(columns = {'m20' : 'm20_redone'})"
   ]
  },
  {
   "cell_type": "code",
   "execution_count": 17,
   "id": "b0faf9fe-504e-4160-946d-b535ef4c8c3d",
   "metadata": {},
   "outputs": [],
   "source": [
    "df_merg = df_orig.merge(df_red, on = 'id_str', how = 'left')"
   ]
  },
  {
   "cell_type": "code",
   "execution_count": 19,
   "id": "81161636-8935-4eff-b0c9-051b0c4835a0",
   "metadata": {},
   "outputs": [],
   "source": [
    "df_change = df_merg.assign(change_in_m20 = df_merg.apply(lambda row: row.m20 - row.m20_redone, axis = 1))"
   ]
  },
  {
   "cell_type": "code",
   "execution_count": null,
   "id": "9baa7874-6b07-40f1-9755-877f3e927dee",
   "metadata": {},
   "outputs": [],
   "source": []
  }
 ],
 "metadata": {
  "kernelspec": {
   "display_name": "Python 3 (ipykernel)",
   "language": "python",
   "name": "python3"
  },
  "language_info": {
   "codemirror_mode": {
    "name": "ipython",
    "version": 3
   },
   "file_extension": ".py",
   "mimetype": "text/x-python",
   "name": "python",
   "nbconvert_exporter": "python",
   "pygments_lexer": "ipython3",
   "version": "3.7.13"
  }
 },
 "nbformat": 4,
 "nbformat_minor": 5
}
