{
 "cells": [
  {
   "cell_type": "code",
   "execution_count": 6,
   "id": "7e8fe9bf-9ce6-4fbe-a761-1942e5a7cb06",
   "metadata": {},
   "outputs": [],
   "source": [
    "import glob\n",
    "from zipfile import ZipFile\n",
    "\n",
    "from tqdm import tqdm\n",
    "import os"
   ]
  },
  {
   "cell_type": "code",
   "execution_count": 10,
   "id": "84e39927-1768-4e81-838e-4cf5bb2828cb",
   "metadata": {},
   "outputs": [],
   "source": [
    "files = glob.glob('E:/GZ-DESI/images/mergers/*.fits')"
   ]
  },
  {
   "cell_type": "code",
   "execution_count": 11,
   "id": "72ffc9ba-494d-4f90-a42c-a8716c0caae5",
   "metadata": {},
   "outputs": [
    {
     "name": "stderr",
     "output_type": "stream",
     "text": [
      "100%|██████████| 185278/185278 [5:12:39<00:00,  9.88it/s]   \n"
     ]
    }
   ],
   "source": [
    "with ZipFile('E:/GZ-DESI/images-upload/mergers.zip', 'w', compresslevel = 5) as f:\n",
    "    for file in tqdm(files):\n",
    "        f.write(file, os.path.basename(file))"
   ]
  },
  {
   "cell_type": "code",
   "execution_count": null,
   "id": "3510c2d7-ce76-462e-83b3-80fec80598ba",
   "metadata": {},
   "outputs": [],
   "source": []
  }
 ],
 "metadata": {
  "kernelspec": {
   "display_name": "Python 3 (ipykernel)",
   "language": "python",
   "name": "python3"
  },
  "language_info": {
   "codemirror_mode": {
    "name": "ipython",
    "version": 3
   },
   "file_extension": ".py",
   "mimetype": "text/x-python",
   "name": "python",
   "nbconvert_exporter": "python",
   "pygments_lexer": "ipython3",
   "version": "3.7.13"
  }
 },
 "nbformat": 4,
 "nbformat_minor": 5
}
