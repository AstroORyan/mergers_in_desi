{
 "cells": [
  {
   "cell_type": "markdown",
   "id": "8f92735f-1446-4d61-82ff-c871124fcf8d",
   "metadata": {},
   "source": [
    "## Creating Manifests"
   ]
  },
  {
   "cell_type": "markdown",
   "id": "8a954731-68eb-4771-82cf-8d472c851a50",
   "metadata": {},
   "source": [
    "A quick notebook creating the manifests for the HEC of all the galaxies in the DESI sample."
   ]
  },
  {
   "cell_type": "code",
   "execution_count": 20,
   "id": "3eb7330c-bf6f-4a0d-90e6-bfdf83915035",
   "metadata": {},
   "outputs": [],
   "source": [
    "import pandas as pd"
   ]
  },
  {
   "cell_type": "code",
   "execution_count": 21,
   "id": "dc45bb97-f832-4355-aa50-7474b0096604",
   "metadata": {},
   "outputs": [],
   "source": [
    "folder = 'E:/GZ-DESI/data'"
   ]
  },
  {
   "cell_type": "code",
   "execution_count": 22,
   "id": "c265a362-1e8a-4306-9d2c-7c38a49e8190",
   "metadata": {},
   "outputs": [],
   "source": [
    "save_folder = 'C:/Users/oryan/Documents/mergers_in_desi/manifests'"
   ]
  },
  {
   "cell_type": "code",
   "execution_count": 23,
   "id": "f1f496d7-2f20-40d3-a02b-64881762255b",
   "metadata": {},
   "outputs": [],
   "source": [
    "df_int = pd.read_parquet(f'{folder}/2023-03-15-cats/definitive-merged-interesting-params.parquet', engine = 'pyarrow')"
   ]
  },
  {
   "cell_type": "code",
   "execution_count": 24,
   "id": "6f356ee8-e2d5-4982-8c4a-ee1978df27ee",
   "metadata": {},
   "outputs": [
    {
     "data": {
      "text/plain": [
       "merger               185278\n",
       "major_interaction     11594\n",
       "minor_interaction       267\n",
       "Name: category, dtype: int64"
      ]
     },
     "execution_count": 24,
     "metadata": {},
     "output_type": "execute_result"
    }
   ],
   "source": [
    "df_int.category.value_counts()"
   ]
  },
  {
   "cell_type": "code",
   "execution_count": 25,
   "id": "b7b9d5ae-b55c-4918-bc08-ad28f309fec1",
   "metadata": {},
   "outputs": [
    {
     "data": {
      "text/plain": [
       "Index(['id_str', 'merging_none_fraction', 'merging_minor-disturbance_fraction',\n",
       "       'merging_major-disturbance_fraction', 'merging_merger_fraction',\n",
       "       'category', 'ra', 'dec', 'log_l_ha', 'log_l_oiii', 'photo_z', 'spec_z',\n",
       "       'redshift', 'redshift_nsa', 'total_sfr_avg', 'elpetro_mass', 'logMH',\n",
       "       'elpetro_mass_log', 'log_m_bh', 'log_bolometric_l'],\n",
       "      dtype='object')"
      ]
     },
     "execution_count": 25,
     "metadata": {},
     "output_type": "execute_result"
    }
   ],
   "source": [
    "df_int.columns"
   ]
  },
  {
   "cell_type": "code",
   "execution_count": 28,
   "id": "37a59794-d818-40ca-a0cc-0576fc5043ab",
   "metadata": {},
   "outputs": [],
   "source": [
    "df_all_data = pd.read_parquet(f'{folder}/2023-03-15-cats/int-predicted-catmerged.parquet', engine = 'pyarrow')"
   ]
  },
  {
   "cell_type": "code",
   "execution_count": 31,
   "id": "dbd7b2da-1c55-4a23-b0c3-cba1f01af4b0",
   "metadata": {},
   "outputs": [],
   "source": [
    "df_red = df_all_data[['id_str','est_petro_th50']]"
   ]
  },
  {
   "cell_type": "code",
   "execution_count": 32,
   "id": "6c9a7270-1dca-4a17-ac5d-3df678392643",
   "metadata": {},
   "outputs": [
    {
     "data": {
      "text/html": [
       "<div>\n",
       "<style scoped>\n",
       "    .dataframe tbody tr th:only-of-type {\n",
       "        vertical-align: middle;\n",
       "    }\n",
       "\n",
       "    .dataframe tbody tr th {\n",
       "        vertical-align: top;\n",
       "    }\n",
       "\n",
       "    .dataframe thead th {\n",
       "        text-align: right;\n",
       "    }\n",
       "</style>\n",
       "<table border=\"1\" class=\"dataframe\">\n",
       "  <thead>\n",
       "    <tr style=\"text-align: right;\">\n",
       "      <th></th>\n",
       "      <th>id_str</th>\n",
       "      <th>est_petro_th50</th>\n",
       "    </tr>\n",
       "  </thead>\n",
       "  <tbody>\n",
       "    <tr>\n",
       "      <th>0</th>\n",
       "      <td>390393_113</td>\n",
       "      <td>1.892756</td>\n",
       "    </tr>\n",
       "    <tr>\n",
       "      <th>1</th>\n",
       "      <td>388975_4015</td>\n",
       "      <td>1.708224</td>\n",
       "    </tr>\n",
       "    <tr>\n",
       "      <th>2</th>\n",
       "      <td>388975_4016</td>\n",
       "      <td>1.472603</td>\n",
       "    </tr>\n",
       "    <tr>\n",
       "      <th>3</th>\n",
       "      <td>388976_4771</td>\n",
       "      <td>1.637970</td>\n",
       "    </tr>\n",
       "    <tr>\n",
       "      <th>4</th>\n",
       "      <td>390397_3464</td>\n",
       "      <td>1.599376</td>\n",
       "    </tr>\n",
       "    <tr>\n",
       "      <th>...</th>\n",
       "      <td>...</td>\n",
       "      <td>...</td>\n",
       "    </tr>\n",
       "    <tr>\n",
       "      <th>197134</th>\n",
       "      <td>442690_1552</td>\n",
       "      <td>2.656753</td>\n",
       "    </tr>\n",
       "    <tr>\n",
       "      <th>197135</th>\n",
       "      <td>442690_1559</td>\n",
       "      <td>1.392006</td>\n",
       "    </tr>\n",
       "    <tr>\n",
       "      <th>197136</th>\n",
       "      <td>441332_3549</td>\n",
       "      <td>2.276158</td>\n",
       "    </tr>\n",
       "    <tr>\n",
       "      <th>197137</th>\n",
       "      <td>442689_2324</td>\n",
       "      <td>4.791412</td>\n",
       "    </tr>\n",
       "    <tr>\n",
       "      <th>197138</th>\n",
       "      <td>444047_379</td>\n",
       "      <td>2.447909</td>\n",
       "    </tr>\n",
       "  </tbody>\n",
       "</table>\n",
       "<p>197139 rows × 2 columns</p>\n",
       "</div>"
      ],
      "text/plain": [
       "             id_str  est_petro_th50\n",
       "0        390393_113        1.892756\n",
       "1       388975_4015        1.708224\n",
       "2       388975_4016        1.472603\n",
       "3       388976_4771        1.637970\n",
       "4       390397_3464        1.599376\n",
       "...             ...             ...\n",
       "197134  442690_1552        2.656753\n",
       "197135  442690_1559        1.392006\n",
       "197136  441332_3549        2.276158\n",
       "197137  442689_2324        4.791412\n",
       "197138   444047_379        2.447909\n",
       "\n",
       "[197139 rows x 2 columns]"
      ]
     },
     "execution_count": 32,
     "metadata": {},
     "output_type": "execute_result"
    }
   ],
   "source": [
    "df_red"
   ]
  },
  {
   "cell_type": "code",
   "execution_count": 33,
   "id": "97a71801-6542-4498-9812-2335a2f8eec1",
   "metadata": {},
   "outputs": [],
   "source": [
    "df_merge = df_int.merge(df_red, on = 'id_str', how = 'left')"
   ]
  },
  {
   "cell_type": "markdown",
   "id": "c871d2d9-6f6e-415c-a257-d7320107a848",
   "metadata": {},
   "source": [
    "### Mergers"
   ]
  },
  {
   "cell_type": "code",
   "execution_count": 35,
   "id": "d0b1d251-8a94-4786-9b5a-a3dc04310992",
   "metadata": {},
   "outputs": [],
   "source": [
    "df_merg = (\n",
    "    df_merge\n",
    "    .query('category == \"merger\"')\n",
    "    [['id_str', 'ra', 'dec', 'est_petro_th50']]\n",
    ")"
   ]
  },
  {
   "cell_type": "code",
   "execution_count": 36,
   "id": "1ddff968-cc61-436a-ba2a-d2d775fc441f",
   "metadata": {},
   "outputs": [],
   "source": [
    "df_merg.to_csv(f'{save_folder}/mergers-hec-manifest.csv')"
   ]
  },
  {
   "cell_type": "markdown",
   "id": "29bcb726-6932-400e-a65c-1cb608cf2737",
   "metadata": {},
   "source": [
    "### Major"
   ]
  },
  {
   "cell_type": "code",
   "execution_count": 39,
   "id": "b9cd9003-9a68-425d-9c8e-623b61ec234d",
   "metadata": {},
   "outputs": [],
   "source": [
    "df_maj = (\n",
    "    df_merge\n",
    "    .query('category == \"major_interaction\"')\n",
    "    [['id_str', 'ra', 'dec', 'est_petro_th50']]\n",
    ")"
   ]
  },
  {
   "cell_type": "code",
   "execution_count": 40,
   "id": "69b150f6-4c0d-4bca-962b-7e0cea3cc53b",
   "metadata": {},
   "outputs": [],
   "source": [
    "df_maj.to_csv(f'{save_folder}/major-hec-manifest.csv')"
   ]
  },
  {
   "cell_type": "markdown",
   "id": "50f4348e-a0b1-47d5-a431-544a1f8fc6e7",
   "metadata": {},
   "source": [
    "### Minor"
   ]
  },
  {
   "cell_type": "code",
   "execution_count": 41,
   "id": "cdfe9e04-e3c3-47a3-87f2-4018332d0660",
   "metadata": {},
   "outputs": [],
   "source": [
    "df_min = (\n",
    "    df_merge\n",
    "    .query('category == \"minor_interaction\"')\n",
    "    [['id_str', 'ra', 'dec', 'est_petro_th50']]\n",
    ")"
   ]
  },
  {
   "cell_type": "code",
   "execution_count": 42,
   "id": "aed56e37-7df6-415a-9098-e45247a71627",
   "metadata": {},
   "outputs": [],
   "source": [
    "df_min.to_csv(f'{save_folder}/minor-hec-manifest.csv')"
   ]
  },
  {
   "cell_type": "code",
   "execution_count": null,
   "id": "8f0b5286-208f-4019-a817-8b44ecbcaff1",
   "metadata": {},
   "outputs": [],
   "source": []
  }
 ],
 "metadata": {
  "kernelspec": {
   "display_name": "Python 3 (ipykernel)",
   "language": "python",
   "name": "python3"
  },
  "language_info": {
   "codemirror_mode": {
    "name": "ipython",
    "version": 3
   },
   "file_extension": ".py",
   "mimetype": "text/x-python",
   "name": "python",
   "nbconvert_exporter": "python",
   "pygments_lexer": "ipython3",
   "version": "3.7.13"
  }
 },
 "nbformat": 4,
 "nbformat_minor": 5
}
