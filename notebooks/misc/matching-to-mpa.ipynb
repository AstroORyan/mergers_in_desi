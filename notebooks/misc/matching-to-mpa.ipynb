{
 "cells": [
  {
   "cell_type": "markdown",
   "id": "9f1f28b3-f285-48e3-9583-e138d253fbc6",
   "metadata": {},
   "source": [
    "# Matching GZ: DESI to MPA-JHU\n",
    "Notebook that checks if any of the galaxies in the DESI sample exist in the MPA-JHU. Uses Pandas and FITS_Recs."
   ]
  },
  {
   "cell_type": "code",
   "execution_count": 1,
   "id": "65405616-0444-4a20-8633-3575b243e53b",
   "metadata": {},
   "outputs": [],
   "source": [
    "import pandas as pd\n",
    "from tqdm import tqdm\n",
    "tqdm.pandas()\n",
    "\n",
    "import sys\n",
    "\n",
    "from astropy.io import fits\n",
    "from astropy.table import Table"
   ]
  },
  {
   "cell_type": "code",
   "execution_count": 2,
   "id": "83ec6312-06dd-40f1-a25c-45499bc966b9",
   "metadata": {},
   "outputs": [],
   "source": [
    "mpa_folder = 'C:/Users/oryan/Documents/mergers-in-cosmos/data'"
   ]
  },
  {
   "cell_type": "code",
   "execution_count": 3,
   "id": "f966c924-e75a-4f89-b101-1a9a5d8777a2",
   "metadata": {},
   "outputs": [],
   "source": [
    "folder = 'E:/GZ-DESI/data'"
   ]
  },
  {
   "cell_type": "code",
   "execution_count": 4,
   "id": "e1da333f-07b7-4ac0-babf-c970cce554ca",
   "metadata": {},
   "outputs": [],
   "source": [
    "df_int = pd.read_parquet(f'{folder}/2023-03-15-cats/definitive-merged-interesting-params.parquet', engine = 'pyarrow')"
   ]
  },
  {
   "cell_type": "code",
   "execution_count": 5,
   "id": "c0635673-79d6-4271-85b0-2cbb8be26cff",
   "metadata": {},
   "outputs": [],
   "source": [
    "with fits.open(f'{mpa_folder}/MPA-JHU_full_catalogue.fits') as hdul:\n",
    "    mpa_data = hdul[1].data\n",
    "    mpa_header = hdul[1].header"
   ]
  },
  {
   "cell_type": "code",
   "execution_count": 6,
   "id": "1cecf63d-8c47-4977-b545-86385fe04b70",
   "metadata": {},
   "outputs": [],
   "source": [
    "hdul.close()"
   ]
  },
  {
   "cell_type": "code",
   "execution_count": 7,
   "id": "626695e3-ad06-41ed-9d86-c338fcc0bd9d",
   "metadata": {},
   "outputs": [],
   "source": [
    "df_red = df_int[['id_str', 'ra', 'dec', 'category']]\n",
    "del df_int"
   ]
  },
  {
   "cell_type": "code",
   "execution_count": 8,
   "id": "67751917-a65b-4a31-82d1-3b74ed0f29ae",
   "metadata": {},
   "outputs": [
    {
     "data": {
      "text/html": [
       "<div>\n",
       "<style scoped>\n",
       "    .dataframe tbody tr th:only-of-type {\n",
       "        vertical-align: middle;\n",
       "    }\n",
       "\n",
       "    .dataframe tbody tr th {\n",
       "        vertical-align: top;\n",
       "    }\n",
       "\n",
       "    .dataframe thead th {\n",
       "        text-align: right;\n",
       "    }\n",
       "</style>\n",
       "<table border=\"1\" class=\"dataframe\">\n",
       "  <thead>\n",
       "    <tr style=\"text-align: right;\">\n",
       "      <th></th>\n",
       "      <th>id_str</th>\n",
       "      <th>ra</th>\n",
       "      <th>dec</th>\n",
       "      <th>category</th>\n",
       "    </tr>\n",
       "  </thead>\n",
       "  <tbody>\n",
       "    <tr>\n",
       "      <th>0</th>\n",
       "      <td>390393_113</td>\n",
       "      <td>315.670729</td>\n",
       "      <td>10.126369</td>\n",
       "      <td>merger</td>\n",
       "    </tr>\n",
       "    <tr>\n",
       "      <th>1</th>\n",
       "      <td>388975_4015</td>\n",
       "      <td>315.879343</td>\n",
       "      <td>10.010424</td>\n",
       "      <td>merger</td>\n",
       "    </tr>\n",
       "    <tr>\n",
       "      <th>2</th>\n",
       "      <td>388975_4016</td>\n",
       "      <td>315.878811</td>\n",
       "      <td>10.011117</td>\n",
       "      <td>merger</td>\n",
       "    </tr>\n",
       "    <tr>\n",
       "      <th>3</th>\n",
       "      <td>388976_4771</td>\n",
       "      <td>316.075869</td>\n",
       "      <td>10.014121</td>\n",
       "      <td>merger</td>\n",
       "    </tr>\n",
       "    <tr>\n",
       "      <th>4</th>\n",
       "      <td>390397_3464</td>\n",
       "      <td>316.671962</td>\n",
       "      <td>10.263765</td>\n",
       "      <td>merger</td>\n",
       "    </tr>\n",
       "    <tr>\n",
       "      <th>...</th>\n",
       "      <td>...</td>\n",
       "      <td>...</td>\n",
       "      <td>...</td>\n",
       "      <td>...</td>\n",
       "    </tr>\n",
       "    <tr>\n",
       "      <th>197134</th>\n",
       "      <td>442690_1552</td>\n",
       "      <td>170.788929</td>\n",
       "      <td>19.708979</td>\n",
       "      <td>merger</td>\n",
       "    </tr>\n",
       "    <tr>\n",
       "      <th>197135</th>\n",
       "      <td>442690_1559</td>\n",
       "      <td>170.789902</td>\n",
       "      <td>19.709089</td>\n",
       "      <td>merger</td>\n",
       "    </tr>\n",
       "    <tr>\n",
       "      <th>197136</th>\n",
       "      <td>441332_3549</td>\n",
       "      <td>171.055134</td>\n",
       "      <td>19.566569</td>\n",
       "      <td>merger</td>\n",
       "    </tr>\n",
       "    <tr>\n",
       "      <th>197137</th>\n",
       "      <td>442689_2324</td>\n",
       "      <td>170.688068</td>\n",
       "      <td>19.747605</td>\n",
       "      <td>merger</td>\n",
       "    </tr>\n",
       "    <tr>\n",
       "      <th>197138</th>\n",
       "      <td>444047_379</td>\n",
       "      <td>170.780849</td>\n",
       "      <td>19.894962</td>\n",
       "      <td>merger</td>\n",
       "    </tr>\n",
       "  </tbody>\n",
       "</table>\n",
       "<p>197139 rows × 4 columns</p>\n",
       "</div>"
      ],
      "text/plain": [
       "             id_str          ra        dec category\n",
       "0        390393_113  315.670729  10.126369   merger\n",
       "1       388975_4015  315.879343  10.010424   merger\n",
       "2       388975_4016  315.878811  10.011117   merger\n",
       "3       388976_4771  316.075869  10.014121   merger\n",
       "4       390397_3464  316.671962  10.263765   merger\n",
       "...             ...         ...        ...      ...\n",
       "197134  442690_1552  170.788929  19.708979   merger\n",
       "197135  442690_1559  170.789902  19.709089   merger\n",
       "197136  441332_3549  171.055134  19.566569   merger\n",
       "197137  442689_2324  170.688068  19.747605   merger\n",
       "197138   444047_379  170.780849  19.894962   merger\n",
       "\n",
       "[197139 rows x 4 columns]"
      ]
     },
     "execution_count": 8,
     "metadata": {},
     "output_type": "execute_result"
    }
   ],
   "source": [
    "df_red"
   ]
  },
  {
   "cell_type": "code",
   "execution_count": 9,
   "id": "59127761-87ce-4225-bd82-44ade968b279",
   "metadata": {},
   "outputs": [],
   "source": [
    "row = df_red.iloc[0]"
   ]
  },
  {
   "cell_type": "code",
   "execution_count": 10,
   "id": "1ed89cbb-4008-4620-8301-81f5183fe556",
   "metadata": {},
   "outputs": [
    {
     "data": {
      "text/plain": [
       "id_str      390393_113\n",
       "ra          315.670729\n",
       "dec          10.126369\n",
       "category        merger\n",
       "Name: 0, dtype: object"
      ]
     },
     "execution_count": 10,
     "metadata": {},
     "output_type": "execute_result"
    }
   ],
   "source": [
    "row"
   ]
  },
  {
   "cell_type": "code",
   "execution_count": 12,
   "id": "40fed61c-6185-4bbf-b3fb-6059e6ce5ff7",
   "metadata": {},
   "outputs": [],
   "source": [
    "mask = (mpa_data['RA'] > row.ra - 0.00139) & (mpa_data['RA'] < row.ra + 0.00139) & (mpa_data['DEC'] > row.dec - 0.00139) & (mpa_data['DEC'] < row.dec + 0.00139)"
   ]
  },
  {
   "cell_type": "code",
   "execution_count": 13,
   "id": "0d8de791-a1e9-4034-8957-9732442db7e9",
   "metadata": {},
   "outputs": [],
   "source": [
    "matched_data = mpa_data[mask]"
   ]
  },
  {
   "cell_type": "markdown",
   "id": "8f3058c3-8579-465d-be5d-ba9c66491ab8",
   "metadata": {
    "tags": []
   },
   "source": [
    "### Finding the Matches"
   ]
  },
  {
   "cell_type": "code",
   "execution_count": 14,
   "id": "610546f2-c7b2-47af-8c5a-77f02e4c12c9",
   "metadata": {},
   "outputs": [
    {
     "data": {
      "text/plain": [
       "'299489676975171584'"
      ]
     },
     "execution_count": 14,
     "metadata": {},
     "output_type": "execute_result"
    }
   ],
   "source": [
    "mpa_data['SPECOBJID_1'][0]"
   ]
  },
  {
   "cell_type": "code",
   "execution_count": 15,
   "id": "6ee4cbc6-0515-4c30-9071-6609469a1f6b",
   "metadata": {},
   "outputs": [
    {
     "name": "stderr",
     "output_type": "stream",
     "text": [
      "100%|██████████| 1472581/1472581 [01:47<00:00, 13680.39it/s]\n"
     ]
    }
   ],
   "source": [
    "mpa_red = {}\n",
    "for i in tqdm(range(len(mpa_data))):\n",
    "    mpa_red[mpa_data['SPECOBJID_1'][i]] = {'ra' : mpa_data['RA'][i], 'dec' : mpa_data['DEC'][i]}"
   ]
  },
  {
   "cell_type": "code",
   "execution_count": 16,
   "id": "4ff3958e-106c-4237-9424-a48019de8e9b",
   "metadata": {},
   "outputs": [],
   "source": [
    "del mpa_data"
   ]
  },
  {
   "cell_type": "code",
   "execution_count": 17,
   "id": "cddce1ab-0f7b-4787-bdd9-e2aa19afa7ba",
   "metadata": {},
   "outputs": [],
   "source": [
    "mpa_df = pd.DataFrame.from_dict(mpa_red, orient = 'index').reset_index().rename(columns = {'index' : 'specobjid_1'})"
   ]
  },
  {
   "cell_type": "code",
   "execution_count": 18,
   "id": "6343cd32-ff74-41b1-9e11-10344dc8d76c",
   "metadata": {},
   "outputs": [],
   "source": [
    "del mpa_red"
   ]
  },
  {
   "cell_type": "code",
   "execution_count": 19,
   "id": "d091e69f-8e3f-449a-a4ad-e47a6b3834b2",
   "metadata": {},
   "outputs": [
    {
     "data": {
      "text/html": [
       "<div>\n",
       "<style scoped>\n",
       "    .dataframe tbody tr th:only-of-type {\n",
       "        vertical-align: middle;\n",
       "    }\n",
       "\n",
       "    .dataframe tbody tr th {\n",
       "        vertical-align: top;\n",
       "    }\n",
       "\n",
       "    .dataframe thead th {\n",
       "        text-align: right;\n",
       "    }\n",
       "</style>\n",
       "<table border=\"1\" class=\"dataframe\">\n",
       "  <thead>\n",
       "    <tr style=\"text-align: right;\">\n",
       "      <th></th>\n",
       "      <th>specobjid_1</th>\n",
       "      <th>ra</th>\n",
       "      <th>dec</th>\n",
       "    </tr>\n",
       "  </thead>\n",
       "  <tbody>\n",
       "    <tr>\n",
       "      <th>0</th>\n",
       "      <td>299489676975171584</td>\n",
       "      <td>146.714203</td>\n",
       "      <td>-1.041304</td>\n",
       "    </tr>\n",
       "    <tr>\n",
       "      <th>1</th>\n",
       "      <td>299489951853078528</td>\n",
       "      <td>146.919449</td>\n",
       "      <td>-0.990492</td>\n",
       "    </tr>\n",
       "    <tr>\n",
       "      <th>2</th>\n",
       "      <td>299490226730985472</td>\n",
       "      <td>146.902283</td>\n",
       "      <td>-0.984913</td>\n",
       "    </tr>\n",
       "    <tr>\n",
       "      <th>3</th>\n",
       "      <td>299490501608892416</td>\n",
       "      <td>146.859833</td>\n",
       "      <td>-0.808902</td>\n",
       "    </tr>\n",
       "    <tr>\n",
       "      <th>4</th>\n",
       "      <td>299490776486799360</td>\n",
       "      <td>146.763397</td>\n",
       "      <td>-0.810433</td>\n",
       "    </tr>\n",
       "  </tbody>\n",
       "</table>\n",
       "</div>"
      ],
      "text/plain": [
       "          specobjid_1          ra       dec\n",
       "0  299489676975171584  146.714203 -1.041304\n",
       "1  299489951853078528  146.919449 -0.990492\n",
       "2  299490226730985472  146.902283 -0.984913\n",
       "3  299490501608892416  146.859833 -0.808902\n",
       "4  299490776486799360  146.763397 -0.810433"
      ]
     },
     "execution_count": 19,
     "metadata": {},
     "output_type": "execute_result"
    }
   ],
   "source": [
    "mpa_df.head()"
   ]
  },
  {
   "cell_type": "code",
   "execution_count": 20,
   "id": "15b615f9-6ef7-466a-8065-7ad039c65e33",
   "metadata": {},
   "outputs": [],
   "source": [
    "mpa_table = Table.from_pandas(mpa_df)"
   ]
  },
  {
   "cell_type": "code",
   "execution_count": 21,
   "id": "50b8e258-10ab-4e46-b250-d0892a58a76d",
   "metadata": {},
   "outputs": [],
   "source": [
    "del mpa_df"
   ]
  },
  {
   "cell_type": "code",
   "execution_count": 22,
   "id": "ac924b3b-15da-4060-b89d-8512c068891b",
   "metadata": {},
   "outputs": [
    {
     "name": "stdout",
     "output_type": "stream",
     "text": [
      "Wall time: 6 ms\n"
     ]
    }
   ],
   "source": [
    "%%time\n",
    "mask = (mpa_table['ra'] > row.ra - 0.00139) & (mpa_table['ra'] < row.ra + 0.00139) & (mpa_table['dec'] > row.dec - 0.00139) & (mpa_table['dec'] < row.dec + 0.00139)"
   ]
  },
  {
   "cell_type": "code",
   "execution_count": 24,
   "id": "58a7a80c-8b3d-4cdc-bd2a-69159828cc5c",
   "metadata": {},
   "outputs": [],
   "source": [
    "def in_mpa(ra, dec, mpa_table):\n",
    "    mask = (mpa_table['ra'] > ra - 0.00139) & (mpa_table['ra'] < ra + 0.00139) & (mpa_table['dec'] > dec - 0.00139) & (mpa_table['dec'] < dec + 0.00139)\n",
    "    \n",
    "    matched_data = mpa_table[mask]\n",
    "    \n",
    "    if len(matched_data) > 0:\n",
    "        if len(matched_data) == 1:\n",
    "            return matched_data['specobjid_1'][0]\n",
    "        elif len(matched_data) > 1:\n",
    "            return 'multiple_matches'\n",
    "        else:\n",
    "            return 'failed'\n",
    "    \n",
    "    return 'no_match'"
   ]
  },
  {
   "cell_type": "code",
   "execution_count": 25,
   "id": "aaf5561f-714d-4e83-8195-899d27ff8d55",
   "metadata": {},
   "outputs": [
    {
     "name": "stderr",
     "output_type": "stream",
     "text": [
      "100%|██████████| 197139/197139 [18:29<00:00, 177.64it/s]\n"
     ]
    }
   ],
   "source": [
    "df_match = (\n",
    "    df_red\n",
    "    .assign(matched = df_red.progress_apply(lambda row: in_mpa(row.ra, row.dec, mpa_table), axis = 1))\n",
    ")"
   ]
  },
  {
   "cell_type": "code",
   "execution_count": 26,
   "id": "663d580c-b770-4126-a24a-d26b2cf232d1",
   "metadata": {},
   "outputs": [],
   "source": [
    "del mpa_table, df_red"
   ]
  },
  {
   "cell_type": "code",
   "execution_count": 27,
   "id": "b5b8335c-bf4a-43d1-b553-8cf9f067518b",
   "metadata": {},
   "outputs": [
    {
     "data": {
      "text/plain": [
       "no_match               174421\n",
       "multiple_matches         2129\n",
       "1323095439964137472         4\n",
       "2913975538861238272         3\n",
       "846812007641409536          3\n",
       "                        ...  \n",
       "2194466936962705408         1\n",
       "2194462813794101248         1\n",
       "2194453742823172096         1\n",
       "2194451268922009600         1\n",
       "2809258876082350080         1\n",
       "Name: matched, Length: 17812, dtype: int64"
      ]
     },
     "execution_count": 27,
     "metadata": {},
     "output_type": "execute_result"
    }
   ],
   "source": [
    "df_match.matched.value_counts()"
   ]
  },
  {
   "cell_type": "code",
   "execution_count": 28,
   "id": "7adbd667-9152-4144-bf0c-c92c97f6a4bc",
   "metadata": {},
   "outputs": [],
   "source": [
    "df_match.to_csv('C:/Users/oryan/Documents/mergers_in_desi/data/desi-mpa-matched.csv')"
   ]
  },
  {
   "cell_type": "markdown",
   "id": "4e73a6ad-aedc-42bd-9833-a4ae2791c8c1",
   "metadata": {},
   "source": [
    "### Investigating Multiple Matches"
   ]
  },
  {
   "cell_type": "code",
   "execution_count": null,
   "id": "1463c63d-fd96-41aa-a0e5-5d9e121f6b40",
   "metadata": {},
   "outputs": [],
   "source": []
  }
 ],
 "metadata": {
  "kernelspec": {
   "display_name": "Python 3 (ipykernel)",
   "language": "python",
   "name": "python3"
  },
  "language_info": {
   "codemirror_mode": {
    "name": "ipython",
    "version": 3
   },
   "file_extension": ".py",
   "mimetype": "text/x-python",
   "name": "python",
   "nbconvert_exporter": "python",
   "pygments_lexer": "ipython3",
   "version": "3.7.13"
  }
 },
 "nbformat": 4,
 "nbformat_minor": 5
}
