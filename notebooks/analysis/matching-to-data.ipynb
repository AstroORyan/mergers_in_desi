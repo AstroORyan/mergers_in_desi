{
 "cells": [
  {
   "cell_type": "code",
   "execution_count": 1,
   "id": "563ea4ff-8efb-4a97-8dae-b6585edaf7a5",
   "metadata": {},
   "outputs": [],
   "source": [
    "import pandas as pd"
   ]
  },
  {
   "cell_type": "code",
   "execution_count": 3,
   "id": "4f358a37-de39-47c7-afb7-409576f99643",
   "metadata": {},
   "outputs": [],
   "source": [
    "df = pd.read_parquet('E:/GZ-DESI/data/2023-03-15-cats/definitive-predicted-int.parquet', engine = 'pyarrow')"
   ]
  },
  {
   "cell_type": "code",
   "execution_count": 4,
   "id": "c2c604e7-33e7-4b54-8132-99bb223d4c25",
   "metadata": {},
   "outputs": [
    {
     "data": {
      "text/html": [
       "<div>\n",
       "<style scoped>\n",
       "    .dataframe tbody tr th:only-of-type {\n",
       "        vertical-align: middle;\n",
       "    }\n",
       "\n",
       "    .dataframe tbody tr th {\n",
       "        vertical-align: top;\n",
       "    }\n",
       "\n",
       "    .dataframe thead th {\n",
       "        text-align: right;\n",
       "    }\n",
       "</style>\n",
       "<table border=\"1\" class=\"dataframe\">\n",
       "  <thead>\n",
       "    <tr style=\"text-align: right;\">\n",
       "      <th></th>\n",
       "      <th>id_str</th>\n",
       "      <th>merging_none_fraction</th>\n",
       "      <th>merging_minor-disturbance_fraction</th>\n",
       "      <th>merging_major-disturbance_fraction</th>\n",
       "      <th>merging_merger_fraction</th>\n",
       "      <th>category</th>\n",
       "    </tr>\n",
       "  </thead>\n",
       "  <tbody>\n",
       "    <tr>\n",
       "      <th>34</th>\n",
       "      <td>390393_113</td>\n",
       "      <td>0.378215</td>\n",
       "      <td>0.068470</td>\n",
       "      <td>0.032629</td>\n",
       "      <td>0.520687</td>\n",
       "      <td>merger</td>\n",
       "    </tr>\n",
       "    <tr>\n",
       "      <th>37</th>\n",
       "      <td>388975_4015</td>\n",
       "      <td>0.109286</td>\n",
       "      <td>0.051234</td>\n",
       "      <td>0.068933</td>\n",
       "      <td>0.770546</td>\n",
       "      <td>merger</td>\n",
       "    </tr>\n",
       "    <tr>\n",
       "      <th>38</th>\n",
       "      <td>388975_4016</td>\n",
       "      <td>0.093990</td>\n",
       "      <td>0.046352</td>\n",
       "      <td>0.065630</td>\n",
       "      <td>0.794028</td>\n",
       "      <td>merger</td>\n",
       "    </tr>\n",
       "    <tr>\n",
       "      <th>49</th>\n",
       "      <td>388976_4771</td>\n",
       "      <td>0.348186</td>\n",
       "      <td>0.065020</td>\n",
       "      <td>0.034528</td>\n",
       "      <td>0.552266</td>\n",
       "      <td>merger</td>\n",
       "    </tr>\n",
       "    <tr>\n",
       "      <th>126</th>\n",
       "      <td>390397_3464</td>\n",
       "      <td>0.305351</td>\n",
       "      <td>0.087567</td>\n",
       "      <td>0.054392</td>\n",
       "      <td>0.552690</td>\n",
       "      <td>merger</td>\n",
       "    </tr>\n",
       "    <tr>\n",
       "      <th>...</th>\n",
       "      <td>...</td>\n",
       "      <td>...</td>\n",
       "      <td>...</td>\n",
       "      <td>...</td>\n",
       "      <td>...</td>\n",
       "      <td>...</td>\n",
       "    </tr>\n",
       "    <tr>\n",
       "      <th>8689223</th>\n",
       "      <td>442690_1552</td>\n",
       "      <td>0.081414</td>\n",
       "      <td>0.047764</td>\n",
       "      <td>0.105524</td>\n",
       "      <td>0.765298</td>\n",
       "      <td>merger</td>\n",
       "    </tr>\n",
       "    <tr>\n",
       "      <th>8689224</th>\n",
       "      <td>442690_1559</td>\n",
       "      <td>0.089008</td>\n",
       "      <td>0.052199</td>\n",
       "      <td>0.104537</td>\n",
       "      <td>0.754257</td>\n",
       "      <td>merger</td>\n",
       "    </tr>\n",
       "    <tr>\n",
       "      <th>8689254</th>\n",
       "      <td>441332_3549</td>\n",
       "      <td>0.308621</td>\n",
       "      <td>0.066977</td>\n",
       "      <td>0.062600</td>\n",
       "      <td>0.561802</td>\n",
       "      <td>merger</td>\n",
       "    </tr>\n",
       "    <tr>\n",
       "      <th>8689291</th>\n",
       "      <td>442689_2324</td>\n",
       "      <td>0.372248</td>\n",
       "      <td>0.065141</td>\n",
       "      <td>0.034882</td>\n",
       "      <td>0.527729</td>\n",
       "      <td>merger</td>\n",
       "    </tr>\n",
       "    <tr>\n",
       "      <th>8689323</th>\n",
       "      <td>444047_379</td>\n",
       "      <td>0.257402</td>\n",
       "      <td>0.075282</td>\n",
       "      <td>0.043639</td>\n",
       "      <td>0.623678</td>\n",
       "      <td>merger</td>\n",
       "    </tr>\n",
       "  </tbody>\n",
       "</table>\n",
       "<p>197139 rows × 6 columns</p>\n",
       "</div>"
      ],
      "text/plain": [
       "              id_str  merging_none_fraction  \\\n",
       "34        390393_113               0.378215   \n",
       "37       388975_4015               0.109286   \n",
       "38       388975_4016               0.093990   \n",
       "49       388976_4771               0.348186   \n",
       "126      390397_3464               0.305351   \n",
       "...              ...                    ...   \n",
       "8689223  442690_1552               0.081414   \n",
       "8689224  442690_1559               0.089008   \n",
       "8689254  441332_3549               0.308621   \n",
       "8689291  442689_2324               0.372248   \n",
       "8689323   444047_379               0.257402   \n",
       "\n",
       "         merging_minor-disturbance_fraction  \\\n",
       "34                                 0.068470   \n",
       "37                                 0.051234   \n",
       "38                                 0.046352   \n",
       "49                                 0.065020   \n",
       "126                                0.087567   \n",
       "...                                     ...   \n",
       "8689223                            0.047764   \n",
       "8689224                            0.052199   \n",
       "8689254                            0.066977   \n",
       "8689291                            0.065141   \n",
       "8689323                            0.075282   \n",
       "\n",
       "         merging_major-disturbance_fraction  merging_merger_fraction category  \n",
       "34                                 0.032629                 0.520687   merger  \n",
       "37                                 0.068933                 0.770546   merger  \n",
       "38                                 0.065630                 0.794028   merger  \n",
       "49                                 0.034528                 0.552266   merger  \n",
       "126                                0.054392                 0.552690   merger  \n",
       "...                                     ...                      ...      ...  \n",
       "8689223                            0.105524                 0.765298   merger  \n",
       "8689224                            0.104537                 0.754257   merger  \n",
       "8689254                            0.062600                 0.561802   merger  \n",
       "8689291                            0.034882                 0.527729   merger  \n",
       "8689323                            0.043639                 0.623678   merger  \n",
       "\n",
       "[197139 rows x 6 columns]"
      ]
     },
     "execution_count": 4,
     "metadata": {},
     "output_type": "execute_result"
    }
   ],
   "source": [
    "df"
   ]
  },
  {
   "cell_type": "code",
   "execution_count": 5,
   "id": "c3be69c8-c06f-4d5b-8977-51e5a1f961b0",
   "metadata": {},
   "outputs": [],
   "source": [
    "external_df = pd.read_parquet('E:/GZ-DESI/data/raw-cats/external_catalog.parquet', engine = 'pyarrow')"
   ]
  },
  {
   "cell_type": "code",
   "execution_count": 11,
   "id": "0d66379e-c253-4618-9fc7-d3b1e226758b",
   "metadata": {},
   "outputs": [
    {
     "data": {
      "text/plain": [
       "0          100000_1081\n",
       "1          100000_1401\n",
       "2          100000_1483\n",
       "3          100000_1509\n",
       "4          100000_1869\n",
       "              ...     \n",
       "8689365      99999_492\n",
       "8689366      99999_617\n",
       "8689367      99999_693\n",
       "8689368      99999_704\n",
       "8689369      99999_875\n",
       "Name: dr8_id, Length: 8689370, dtype: object"
      ]
     },
     "execution_count": 11,
     "metadata": {},
     "output_type": "execute_result"
    }
   ],
   "source": [
    "external_df.dr8_id"
   ]
  },
  {
   "cell_type": "code",
   "execution_count": null,
   "id": "fe0287a0-6e6a-406e-95e0-3cec81909a4f",
   "metadata": {},
   "outputs": [],
   "source": [
    "external_df_rename = external_df.rename(columns = {'dr8_id' : 'id_str'})"
   ]
  },
  {
   "cell_type": "markdown",
   "id": "783b48dc-1f82-48b0-bad5-842cbf836a84",
   "metadata": {},
   "source": [
    "### Catalogue Matching"
   ]
  },
  {
   "cell_type": "code",
   "execution_count": null,
   "id": "72285be9-b5fc-4080-b6de-ac360bf0948f",
   "metadata": {},
   "outputs": [],
   "source": [
    "df_merge = df.merge(external_df_rename, on='id_str', how = 'left')\n",
    "del df, external_df_rename"
   ]
  },
  {
   "cell_type": "code",
   "execution_count": null,
   "id": "2eba897c-2f1f-453f-b1e9-ec5b51dc4c9f",
   "metadata": {},
   "outputs": [],
   "source": [
    "df_merge"
   ]
  },
  {
   "cell_type": "code",
   "execution_count": null,
   "id": "2c1424bc-aebd-4526-9be5-8a88c25f627f",
   "metadata": {},
   "outputs": [],
   "source": [
    "df_merge.to_parquet('E:/GZ-DESI/data/2023-03-15-cats/int-predicted-catmerged.parquet')"
   ]
  },
  {
   "cell_type": "code",
   "execution_count": null,
   "id": "01a04dd3-add4-4d61-9f9e-764522b58354",
   "metadata": {},
   "outputs": [],
   "source": []
  }
 ],
 "metadata": {
  "kernelspec": {
   "display_name": "Python 3 (ipykernel)",
   "language": "python",
   "name": "python3"
  },
  "language_info": {
   "codemirror_mode": {
    "name": "ipython",
    "version": 3
   },
   "file_extension": ".py",
   "mimetype": "text/x-python",
   "name": "python",
   "nbconvert_exporter": "python",
   "pygments_lexer": "ipython3",
   "version": "3.7.13"
  }
 },
 "nbformat": 4,
 "nbformat_minor": 5
}
