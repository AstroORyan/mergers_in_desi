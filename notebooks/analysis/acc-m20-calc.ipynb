{
 "cells": [
  {
   "cell_type": "markdown",
   "id": "f3d2517c-2de2-4302-b44e-d203581e5478",
   "metadata": {},
   "source": [
    "## Accelerating M20 Calculation"
   ]
  },
  {
   "cell_type": "markdown",
   "id": "5b0d507e-87c6-48e7-9219-68a2639e4c6f",
   "metadata": {},
   "source": [
    "Notebook that focuses on accelerating my calculation for M20, which is currently incredibly slow."
   ]
  },
  {
   "cell_type": "code",
   "execution_count": 1,
   "id": "5bcb6346-15bc-43a8-84cc-b47337754a1d",
   "metadata": {},
   "outputs": [],
   "source": [
    "import pandas as pd\n",
    "import numpy as np\n",
    "import cv2 as cv\n",
    "from shapely.geometry import Polygon, Point\n",
    "\n",
    "from astropy.io import fits\n",
    "from astropy.wcs import WCS\n",
    "from astropy.nddata import Cutout2D\n",
    "import astropy.units as u\n",
    "from astropy.coordinates import SkyCoord"
   ]
  },
  {
   "cell_type": "code",
   "execution_count": 2,
   "id": "881c7089-2736-41fd-b2aa-fc9f4fdbee4d",
   "metadata": {},
   "outputs": [],
   "source": [
    "df_ginis = pd.read_csv(r'C:\\Users\\oryan\\Documents\\galaxy-zoo-desi\\results/ginis-major.csv', index_col = 0)"
   ]
  },
  {
   "cell_type": "code",
   "execution_count": 3,
   "id": "40eab930-dec5-408e-a991-4fa365f4cf55",
   "metadata": {},
   "outputs": [
    {
     "data": {
      "text/html": [
       "<div>\n",
       "<style scoped>\n",
       "    .dataframe tbody tr th:only-of-type {\n",
       "        vertical-align: middle;\n",
       "    }\n",
       "\n",
       "    .dataframe tbody tr th {\n",
       "        vertical-align: top;\n",
       "    }\n",
       "\n",
       "    .dataframe thead th {\n",
       "        text-align: right;\n",
       "    }\n",
       "</style>\n",
       "<table border=\"1\" class=\"dataframe\">\n",
       "  <thead>\n",
       "    <tr style=\"text-align: right;\">\n",
       "      <th></th>\n",
       "      <th>im_paths</th>\n",
       "      <th>id_str</th>\n",
       "      <th>ra</th>\n",
       "      <th>dec</th>\n",
       "      <th>petro_theta</th>\n",
       "      <th>est_petro_th50</th>\n",
       "      <th>petro_th50</th>\n",
       "      <th>petro_th90</th>\n",
       "      <th>gini</th>\n",
       "      <th>category</th>\n",
       "    </tr>\n",
       "  </thead>\n",
       "  <tbody>\n",
       "    <tr>\n",
       "      <th>0</th>\n",
       "      <td>E:/GZ-DESI/images/major-dist\\100012_421-cutout...</td>\n",
       "      <td>100012_421</td>\n",
       "      <td>36.303316</td>\n",
       "      <td>-44.348649</td>\n",
       "      <td>NaN</td>\n",
       "      <td>2.393999</td>\n",
       "      <td>NaN</td>\n",
       "      <td>NaN</td>\n",
       "      <td>0.41877005570873455</td>\n",
       "      <td>major</td>\n",
       "    </tr>\n",
       "    <tr>\n",
       "      <th>1</th>\n",
       "      <td>E:/GZ-DESI/images/major-dist\\100025_3459-cutou...</td>\n",
       "      <td>100025_3459</td>\n",
       "      <td>40.747850</td>\n",
       "      <td>-44.142658</td>\n",
       "      <td>NaN</td>\n",
       "      <td>2.026541</td>\n",
       "      <td>NaN</td>\n",
       "      <td>NaN</td>\n",
       "      <td>0.47764445919663906</td>\n",
       "      <td>major</td>\n",
       "    </tr>\n",
       "    <tr>\n",
       "      <th>2</th>\n",
       "      <td>E:/GZ-DESI/images/major-dist\\100049_651-cutout...</td>\n",
       "      <td>100049_651</td>\n",
       "      <td>49.191266</td>\n",
       "      <td>-44.344255</td>\n",
       "      <td>NaN</td>\n",
       "      <td>2.382727</td>\n",
       "      <td>NaN</td>\n",
       "      <td>NaN</td>\n",
       "      <td>0.46975089652240526</td>\n",
       "      <td>major</td>\n",
       "    </tr>\n",
       "    <tr>\n",
       "      <th>3</th>\n",
       "      <td>E:/GZ-DESI/images/major-dist\\100061_265-cutout...</td>\n",
       "      <td>100061_265</td>\n",
       "      <td>53.409491</td>\n",
       "      <td>-44.357158</td>\n",
       "      <td>NaN</td>\n",
       "      <td>2.103341</td>\n",
       "      <td>NaN</td>\n",
       "      <td>NaN</td>\n",
       "      <td>0.4185728701900139</td>\n",
       "      <td>major</td>\n",
       "    </tr>\n",
       "    <tr>\n",
       "      <th>4</th>\n",
       "      <td>E:/GZ-DESI/images/major-dist\\100108_3617-cutou...</td>\n",
       "      <td>100108_3617</td>\n",
       "      <td>69.833979</td>\n",
       "      <td>-44.193233</td>\n",
       "      <td>NaN</td>\n",
       "      <td>3.622461</td>\n",
       "      <td>NaN</td>\n",
       "      <td>NaN</td>\n",
       "      <td>0.2901572380610142</td>\n",
       "      <td>major</td>\n",
       "    </tr>\n",
       "    <tr>\n",
       "      <th>...</th>\n",
       "      <td>...</td>\n",
       "      <td>...</td>\n",
       "      <td>...</td>\n",
       "      <td>...</td>\n",
       "      <td>...</td>\n",
       "      <td>...</td>\n",
       "      <td>...</td>\n",
       "      <td>...</td>\n",
       "      <td>...</td>\n",
       "      <td>...</td>\n",
       "    </tr>\n",
       "    <tr>\n",
       "      <th>11589</th>\n",
       "      <td>E:/GZ-DESI/images/major-dist\\99801_4400-cutout...</td>\n",
       "      <td>99801_4400</td>\n",
       "      <td>322.647672</td>\n",
       "      <td>-44.436758</td>\n",
       "      <td>NaN</td>\n",
       "      <td>9.058787</td>\n",
       "      <td>NaN</td>\n",
       "      <td>NaN</td>\n",
       "      <td>0.3759675322154746</td>\n",
       "      <td>major</td>\n",
       "    </tr>\n",
       "    <tr>\n",
       "      <th>11590</th>\n",
       "      <td>E:/GZ-DESI/images/major-dist\\99836_4996-cutout...</td>\n",
       "      <td>99836_4996</td>\n",
       "      <td>335.028729</td>\n",
       "      <td>-44.457437</td>\n",
       "      <td>NaN</td>\n",
       "      <td>2.841919</td>\n",
       "      <td>NaN</td>\n",
       "      <td>NaN</td>\n",
       "      <td>0.3154597488854913</td>\n",
       "      <td>major</td>\n",
       "    </tr>\n",
       "    <tr>\n",
       "      <th>11591</th>\n",
       "      <td>E:/GZ-DESI/images/major-dist\\99850_3747-cutout...</td>\n",
       "      <td>99850_3747</td>\n",
       "      <td>339.845061</td>\n",
       "      <td>-44.488863</td>\n",
       "      <td>NaN</td>\n",
       "      <td>2.081201</td>\n",
       "      <td>NaN</td>\n",
       "      <td>NaN</td>\n",
       "      <td>0.43261384737659764</td>\n",
       "      <td>major</td>\n",
       "    </tr>\n",
       "    <tr>\n",
       "      <th>11592</th>\n",
       "      <td>E:/GZ-DESI/images/major-dist\\99857_2264-cutout...</td>\n",
       "      <td>99857_2264</td>\n",
       "      <td>342.304118</td>\n",
       "      <td>-44.498664</td>\n",
       "      <td>NaN</td>\n",
       "      <td>2.840653</td>\n",
       "      <td>NaN</td>\n",
       "      <td>NaN</td>\n",
       "      <td>0.45981817613647374</td>\n",
       "      <td>major</td>\n",
       "    </tr>\n",
       "    <tr>\n",
       "      <th>11593</th>\n",
       "      <td>E:/GZ-DESI/images/major-dist\\99961_1988-cutout...</td>\n",
       "      <td>99961_1988</td>\n",
       "      <td>18.564240</td>\n",
       "      <td>-44.283947</td>\n",
       "      <td>NaN</td>\n",
       "      <td>3.330795</td>\n",
       "      <td>NaN</td>\n",
       "      <td>NaN</td>\n",
       "      <td>0.26445911639361885</td>\n",
       "      <td>major</td>\n",
       "    </tr>\n",
       "  </tbody>\n",
       "</table>\n",
       "<p>11594 rows × 10 columns</p>\n",
       "</div>"
      ],
      "text/plain": [
       "                                                im_paths       id_str  \\\n",
       "0      E:/GZ-DESI/images/major-dist\\100012_421-cutout...   100012_421   \n",
       "1      E:/GZ-DESI/images/major-dist\\100025_3459-cutou...  100025_3459   \n",
       "2      E:/GZ-DESI/images/major-dist\\100049_651-cutout...   100049_651   \n",
       "3      E:/GZ-DESI/images/major-dist\\100061_265-cutout...   100061_265   \n",
       "4      E:/GZ-DESI/images/major-dist\\100108_3617-cutou...  100108_3617   \n",
       "...                                                  ...          ...   \n",
       "11589  E:/GZ-DESI/images/major-dist\\99801_4400-cutout...   99801_4400   \n",
       "11590  E:/GZ-DESI/images/major-dist\\99836_4996-cutout...   99836_4996   \n",
       "11591  E:/GZ-DESI/images/major-dist\\99850_3747-cutout...   99850_3747   \n",
       "11592  E:/GZ-DESI/images/major-dist\\99857_2264-cutout...   99857_2264   \n",
       "11593  E:/GZ-DESI/images/major-dist\\99961_1988-cutout...   99961_1988   \n",
       "\n",
       "               ra        dec  petro_theta  est_petro_th50  petro_th50  \\\n",
       "0       36.303316 -44.348649          NaN        2.393999         NaN   \n",
       "1       40.747850 -44.142658          NaN        2.026541         NaN   \n",
       "2       49.191266 -44.344255          NaN        2.382727         NaN   \n",
       "3       53.409491 -44.357158          NaN        2.103341         NaN   \n",
       "4       69.833979 -44.193233          NaN        3.622461         NaN   \n",
       "...           ...        ...          ...             ...         ...   \n",
       "11589  322.647672 -44.436758          NaN        9.058787         NaN   \n",
       "11590  335.028729 -44.457437          NaN        2.841919         NaN   \n",
       "11591  339.845061 -44.488863          NaN        2.081201         NaN   \n",
       "11592  342.304118 -44.498664          NaN        2.840653         NaN   \n",
       "11593   18.564240 -44.283947          NaN        3.330795         NaN   \n",
       "\n",
       "       petro_th90                 gini category  \n",
       "0             NaN  0.41877005570873455    major  \n",
       "1             NaN  0.47764445919663906    major  \n",
       "2             NaN  0.46975089652240526    major  \n",
       "3             NaN   0.4185728701900139    major  \n",
       "4             NaN   0.2901572380610142    major  \n",
       "...           ...                  ...      ...  \n",
       "11589         NaN   0.3759675322154746    major  \n",
       "11590         NaN   0.3154597488854913    major  \n",
       "11591         NaN  0.43261384737659764    major  \n",
       "11592         NaN  0.45981817613647374    major  \n",
       "11593         NaN  0.26445911639361885    major  \n",
       "\n",
       "[11594 rows x 10 columns]"
      ]
     },
     "execution_count": 3,
     "metadata": {},
     "output_type": "execute_result"
    }
   ],
   "source": [
    "df_ginis"
   ]
  },
  {
   "cell_type": "code",
   "execution_count": 4,
   "id": "001a0142-437c-4d59-af77-14099d77aaca",
   "metadata": {},
   "outputs": [],
   "source": [
    "df_part_rem = df_ginis.query('gini != \"partial-overlap\"')\n",
    "df_rem = df_part_rem.query('gini != \"empty-image\"')"
   ]
  },
  {
   "cell_type": "code",
   "execution_count": 5,
   "id": "734e72c5-c4c3-44ad-8e3b-a924ed0609b1",
   "metadata": {},
   "outputs": [],
   "source": [
    "row = df_rem.iloc[-1]\n",
    "\n",
    "path = row.im_paths\n",
    "petro_50 = row.est_petro_th50\n",
    "ra = row.ra\n",
    "dec = row.dec"
   ]
  },
  {
   "cell_type": "code",
   "execution_count": 6,
   "id": "67b1a0a5-46cb-46c2-9845-7dd87e1c4503",
   "metadata": {},
   "outputs": [],
   "source": [
    "def getting_correct_contours(contours):\n",
    "    length = 0\n",
    "        \n",
    "    for i in contours:\n",
    "        if len(i) > length:\n",
    "            correct_contours = i\n",
    "            length = len(i)\n",
    "    \n",
    "    return correct_contours"
   ]
  },
  {
   "cell_type": "code",
   "execution_count": 7,
   "id": "f876a9bd-33c3-4ee8-ad9d-d3969b1efd8d",
   "metadata": {},
   "outputs": [],
   "source": [
    "def conts_to_list(contours):\n",
    "    contour_list = []\n",
    "    for i in range(len(contours)):\n",
    "        row = contours[i][0]\n",
    "        contour_list.append([row[0], row[1]])\n",
    "    return contour_list"
   ]
  },
  {
   "cell_type": "code",
   "execution_count": 8,
   "id": "ca16d516-38d1-4179-87db-4e819bdcc55b",
   "metadata": {},
   "outputs": [
    {
     "name": "stdout",
     "output_type": "stream",
     "text": [
      "Wall time: 170 ms\n"
     ]
    }
   ],
   "source": [
    "%%time\n",
    "if np.isnan(petro_50):\n",
    "    print('Failed')\n",
    "    sys.exit()\n",
    "\n",
    "data = fits.getdata(path)\n",
    "header = fits.getheader(path)\n",
    "\n",
    "w = WCS(header, naxis = 2)\n",
    "\n",
    "size = u.Quantity((4*petro_50, 4*petro_50), u.arcsec)\n",
    "coord = SkyCoord(ra = ra * u.deg, dec = dec * u.deg, frame = 'icrs')\n",
    "try:\n",
    "    cutout = Cutout2D(data[1,:,:], coord, size, wcs = w, mode='strict')\n",
    "except:\n",
    "    print('partial-overlap')\n",
    "    sys.exit()\n",
    "\n",
    "if np.sum(cutout.data) == 0:\n",
    "    print('empty-image')\n",
    "    sys.exit()\n",
    "\n",
    "cutout_int = cutout.data.copy()\n",
    "\n",
    "cut = np.percentile(cutout.data,65)\n",
    "cutout_int[cutout_int <= cut] = 0\n",
    "cutout_int[cutout_int > cut] = 1\n",
    "cutout_int = cutout_int.astype(int)\n",
    "\n",
    "contours, _ = cv.findContours(cutout_int, cv.RETR_FLOODFILL, cv.CHAIN_APPROX_NONE)\n",
    "\n",
    "contours_nested_list = getting_correct_contours(contours)\n",
    "\n",
    "extracted_contour_list = conts_to_list(contours_nested_list)\n",
    "\n",
    "contour_arr = np.zeros([len(extracted_contour_list),2])\n",
    "for i in range(len(extracted_contour_list)):\n",
    "    contour_arr[i,0] = extracted_contour_list[i][0]\n",
    "    contour_arr[i,1] = extracted_contour_list[i][1]\n",
    "\n",
    "pl = Polygon(contour_arr)\n",
    "\n",
    "pixels_mask = np.zeros(cutout.data.shape).astype(bool)\n",
    "for i in range(cutout.data.shape[0]):\n",
    "    for j in range(cutout.data.shape[1]):\n",
    "        pt = Point(i,j)\n",
    "        if pl.contains(pt):\n",
    "            pixels_mask[i,j] = True\n",
    "pixels_mask = pixels_mask.T\n",
    "\n",
    "gal_pixels_list = np.argwhere(pixels_mask).tolist()\n",
    "gal_pixels_arr = np.asarray(gal_pixels_list)\n",
    "\n",
    "mtot = np.inf\n",
    "for i in gal_pixels_list:\n",
    "    \n",
    "    mtmp = np.sum(cutout.data[gal_pixels_arr[:,0], gal_pixels_arr[:,1]] * ((gal_pixels_arr[:,0] - i[0])**2 + (gal_pixels_arr[:,1] - i[1])**2))\n",
    "    \n",
    "    if mtmp < mtot:\n",
    "        mtot = mtmp.copy()\n",
    "        center = i.copy()\n",
    "\n",
    "f_tot = np.sum(cutout.data[pixels_mask])\n",
    "\n",
    "sum_f = 0\n",
    "cutout_array = cutout.data.copy()\n",
    "cutout_array[np.invert(pixels_mask)] = 0\n",
    "pixels = []\n",
    "\n",
    "while sum_f < 0.20 * f_tot:\n",
    "    arr_max = np.max(cutout_array)\n",
    "    indices = np.where(cutout_array == arr_max)\n",
    "    x = indices[0][0]\n",
    "    y = indices[1][0]\n",
    "    \n",
    "    pixels.append([x,y])\n",
    "    \n",
    "    sum_f += arr_max\n",
    "    cutout_array[x,y] = 0\n",
    "    \n",
    "m_i = []\n",
    "for i in pixels:\n",
    "    x = i[0]\n",
    "    y = i[1]\n",
    "    f = cutout.data[x,y]\n",
    "    \n",
    "    m_i.append(f * ((x - center[0])**2 + (y - center[1])**2))\n",
    "    \n",
    "m_20 = np.log10(np.sum(m_i) / mtot)"
   ]
  },
  {
   "cell_type": "markdown",
   "id": "195034c3-c95a-4d64-877c-b5a0bee48a9b",
   "metadata": {},
   "source": [
    "### Writing Faster MTot"
   ]
  },
  {
   "cell_type": "code",
   "execution_count": 9,
   "id": "0b3c8938-106d-4da9-9e91-137b8bf8a4d9",
   "metadata": {},
   "outputs": [],
   "source": [
    "mtot_arr = np.zeros(cutout.shape)"
   ]
  },
  {
   "cell_type": "code",
   "execution_count": 10,
   "id": "61885e7b-2493-464f-b024-0d090bb6fa45",
   "metadata": {},
   "outputs": [],
   "source": [
    "def calc_mtot_value(value, cen_x, cen_y, pixels_mask):\n",
    "    m = 0\n",
    "    for p in range(pixels_mask.shape[0]):\n",
    "        for q in range(pixels_mask.shape[1]):\n",
    "            if not pixels_mask[p,q]:\n",
    "                continue\n",
    "            m += value * ((p - i)**2 + (q - j)**2)\n",
    "    return m"
   ]
  },
  {
   "cell_type": "code",
   "execution_count": 56,
   "id": "40861f40-1540-449d-9c9b-c93d2e2d5d02",
   "metadata": {},
   "outputs": [],
   "source": [
    "gal_pixels_list = np.argwhere(pixels_mask).tolist()\n",
    "gal_pixels_arr = np.asarray(gal_pixels_list)"
   ]
  },
  {
   "cell_type": "code",
   "execution_count": 62,
   "id": "a947a020-1b96-4055-b997-9c9e1f13a125",
   "metadata": {},
   "outputs": [
    {
     "name": "stdout",
     "output_type": "stream",
     "text": [
      "Wall time: 29.7 ms\n"
     ]
    }
   ],
   "source": [
    "%%time\n",
    "m_tot = np.inf\n",
    "for i in gal_pixels_list:\n",
    "    \n",
    "    mtmp = np.sum(cutout.data[gal_pixels_arr[:,0], gal_pixels_arr[:,1]] * ((gal_pixels_arr[:,0] - i[0])**2 + (gal_pixels_arr[:,1] - i[1])**2))\n",
    "    \n",
    "    if mtmp < m_tot:\n",
    "        m_tot = mtmp.copy()\n",
    "        center = i.copy()"
   ]
  },
  {
   "cell_type": "code",
   "execution_count": 54,
   "id": "3fd7d187-5941-4387-b181-a80b7bb0b4a1",
   "metadata": {},
   "outputs": [
    {
     "data": {
      "text/plain": [
       "-1.3687265313437669"
      ]
     },
     "execution_count": 54,
     "metadata": {},
     "output_type": "execute_result"
    }
   ],
   "source": [
    "m_20"
   ]
  },
  {
   "cell_type": "code",
   "execution_count": 65,
   "id": "80a54a00-79e2-4f9b-affa-348bb89cab1d",
   "metadata": {},
   "outputs": [
    {
     "data": {
      "text/plain": [
       "8.726666666666667"
      ]
     },
     "execution_count": 65,
     "metadata": {},
     "output_type": "execute_result"
    }
   ],
   "source": [
    "((((168e-3) * 187000) / 60) / 60)"
   ]
  },
  {
   "cell_type": "code",
   "execution_count": null,
   "id": "b9769c20-a9b6-4ec4-9a90-7c05fb48da9e",
   "metadata": {},
   "outputs": [],
   "source": []
  }
 ],
 "metadata": {
  "kernelspec": {
   "display_name": "Python 3 (ipykernel)",
   "language": "python",
   "name": "python3"
  },
  "language_info": {
   "codemirror_mode": {
    "name": "ipython",
    "version": 3
   },
   "file_extension": ".py",
   "mimetype": "text/x-python",
   "name": "python",
   "nbconvert_exporter": "python",
   "pygments_lexer": "ipython3",
   "version": "3.7.13"
  }
 },
 "nbformat": 4,
 "nbformat_minor": 5
}
