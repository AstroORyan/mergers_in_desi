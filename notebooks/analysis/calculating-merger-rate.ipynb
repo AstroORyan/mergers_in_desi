{
 "cells": [
  {
   "cell_type": "markdown",
   "id": "2b62ec62-a665-401b-8781-a3d85871bb76",
   "metadata": {},
   "source": [
    "## Calculating the Merger Rate"
   ]
  },
  {
   "cell_type": "markdown",
   "id": "31108555-3067-4db3-97e6-7b17fac7ff73",
   "metadata": {},
   "source": [
    "So, to calculate the merger rate we need to follow the methodology of Lotz et al. 2011. The equation for merger rate is:\n",
    "\n",
    "    Lambda_merg = number density of merger candidates / average T from encounter to coalescence.\n",
    "    \n",
    "Or, we can calculate the fractional merger rate, given by:\n",
    "\n",
    "    R_merg = C_merg * f_pair / average coalescence time.\n",
    "    \n",
    "So, what do we get?"
   ]
  },
  {
   "cell_type": "markdown",
   "id": "728d5533-1788-4f2a-afd2-cd7264751959",
   "metadata": {},
   "source": [
    "They find that for stellar masses >= 10^{10} solar masses, average coalescence time = 0.21 Gyrs."
   ]
  },
  {
   "cell_type": "code",
   "execution_count": null,
   "id": "3148b03b-08bd-43ae-914c-89c24f564afa",
   "metadata": {},
   "outputs": [],
   "source": []
  }
 ],
 "metadata": {
  "kernelspec": {
   "display_name": "Python 3 (ipykernel)",
   "language": "python",
   "name": "python3"
  },
  "language_info": {
   "codemirror_mode": {
    "name": "ipython",
    "version": 3
   },
   "file_extension": ".py",
   "mimetype": "text/x-python",
   "name": "python",
   "nbconvert_exporter": "python",
   "pygments_lexer": "ipython3",
   "version": "3.7.13"
  }
 },
 "nbformat": 4,
 "nbformat_minor": 5
}
