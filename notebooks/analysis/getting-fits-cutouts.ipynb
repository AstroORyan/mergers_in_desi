{
 "cells": [
  {
   "cell_type": "markdown",
   "id": "9d97bd27-019f-4cd1-b5d8-615bf44d2062",
   "metadata": {},
   "source": [
    "### imports"
   ]
  },
  {
   "cell_type": "code",
   "execution_count": 1,
   "id": "d8c2e36c-31c5-48ad-9af2-6d35cfc79b13",
   "metadata": {},
   "outputs": [],
   "source": [
    "import pandas as pd\n",
    "import numpy as np\n",
    "import matplotlib.pyplot as plt\n",
    "from PIL import Image\n",
    "\n",
    "from joblib import Parallel, delayed\n",
    "import dask.dataframe as dd\n",
    "from dask.diagnostics import ProgressBar\n",
    "\n",
    "from astropy.coordinates import SkyCoord\n",
    "import astropy.units as u\n",
    "from astroquery.mast import Observations\n",
    "from astropy.io import fits\n",
    "from astropy.wcs import WCS\n",
    "\n",
    "import requests\n",
    "import os\n",
    "import time\n",
    "import glob\n",
    "from tqdm import tqdm\n",
    "tqdm.pandas()"
   ]
  },
  {
   "cell_type": "code",
   "execution_count": 2,
   "id": "c574ff5d-6f7e-41af-b4c7-ad605506fb93",
   "metadata": {},
   "outputs": [],
   "source": [
    "folder = 'E:/GZ-DESI/data'"
   ]
  },
  {
   "cell_type": "code",
   "execution_count": 3,
   "id": "31646943-4ee2-414d-a194-fd003f947aea",
   "metadata": {},
   "outputs": [],
   "source": [
    "df = pd.read_parquet(f'{folder}/2023-03-15-cats/definitive-merged-interesting-params.parquet', engine = 'pyarrow')"
   ]
  },
  {
   "cell_type": "code",
   "execution_count": 4,
   "id": "4aa60906-1864-4195-99de-e5b665353467",
   "metadata": {},
   "outputs": [
    {
     "data": {
      "text/plain": [
       "merger               185278\n",
       "major_interaction     11594\n",
       "minor_interaction       267\n",
       "Name: category, dtype: int64"
      ]
     },
     "execution_count": 4,
     "metadata": {},
     "output_type": "execute_result"
    }
   ],
   "source": [
    "df.category.value_counts()"
   ]
  },
  {
   "cell_type": "code",
   "execution_count": 5,
   "id": "c58cc8ee-ed1f-41ac-a8bd-6f997f1f97ca",
   "metadata": {},
   "outputs": [],
   "source": [
    "df_merged = (\n",
    "    df\n",
    "    .query('category == \"merger\"')\n",
    "    [['id_str','ra', 'dec']]\n",
    ")\n",
    "\n",
    "df_major = (\n",
    "    df\n",
    "    .query('category == \"major_interaction\"')\n",
    "    [['id_str','ra', 'dec']]\n",
    ")\n",
    "df_minor =(\n",
    "    df\n",
    "    .query('category == \"minor_interaction\"')\n",
    "    [['id_str','ra', 'dec']]\n",
    ")"
   ]
  },
  {
   "cell_type": "code",
   "execution_count": 6,
   "id": "cfae7d86-cbfc-47df-a062-549bda4738e1",
   "metadata": {},
   "outputs": [],
   "source": [
    "# df_merged_coords = (\n",
    "#     df_merged\n",
    "#     .assign(coords = df_merged.apply(lambda row: SkyCoord(ra = row.ra * u.deg, dec = row.dec * u.deg, frame = 'icrs'), axis = 1))\n",
    "# )\n",
    "\n",
    "# df_major_coords = (\n",
    "#     df_major\n",
    "#     .assign(coords = df_major.apply(lambda row: SkyCoord(ra = row.ra * u.deg, dec = row.dec * u.deg, frame = 'icrs'), axis = 1))\n",
    "# )\n",
    "\n",
    "# df_minor_coords = (\n",
    "#     df_minor\n",
    "#     .assign(coords = df_minor.apply(lambda row: SkyCoord(ra = row.ra * u.deg, dec = row.dec * u.deg, frame = 'icrs'), axis = 1))\n",
    "# )"
   ]
  },
  {
   "cell_type": "code",
   "execution_count": 7,
   "id": "8c09478a-ad03-4607-aafd-8cedd97257c5",
   "metadata": {},
   "outputs": [
    {
     "data": {
      "text/plain": [
       "id_str    390393_113\n",
       "ra        315.670729\n",
       "dec        10.126369\n",
       "Name: 0, dtype: object"
      ]
     },
     "execution_count": 7,
     "metadata": {},
     "output_type": "execute_result"
    }
   ],
   "source": [
    "df_merged.iloc[0]"
   ]
  },
  {
   "cell_type": "code",
   "execution_count": 8,
   "id": "eaa84778-e4b0-4a41-a569-419a5ca60a4e",
   "metadata": {},
   "outputs": [],
   "source": [
    "# http://www.legacysurvey.org/viewer/fits-cutout?ra=315.670729&dec=10.126369&layer=ls-dr10&pixscale=0.262"
   ]
  },
  {
   "cell_type": "code",
   "execution_count": 9,
   "id": "05f4ae50-029a-48b6-87c2-2419651f6b70",
   "metadata": {},
   "outputs": [],
   "source": [
    "def get_fits(row, category = 'mergers'):\n",
    "    \n",
    "    ra = row.ra\n",
    "    dec = row.dec\n",
    "    id_str = row.id_str\n",
    "    \n",
    "    save_dir = f'E:/GZ-DESI/images/{category}/{id_str}-cutout.fits'\n",
    "    if os.path.exists(save_dir):\n",
    "        return save_dir\n",
    "    \n",
    "    url = f'http://www.legacysurvey.org/viewer/fits-cutout?ra={ra}&dec={dec}&layer=ls-dr10&pixscale=0.262'\n",
    "    \n",
    "    for i in range(5):\n",
    "        try:\n",
    "            r = requests.get(url)\n",
    "        except:\n",
    "            time.sleep(1)\n",
    "            continue\n",
    "        \n",
    "        if r.status_code == 200:\n",
    "            break\n",
    "        else:\n",
    "            time.sleep(1)\n",
    "    \n",
    "    if i >= 4:\n",
    "        return 'Failed'\n",
    "    \n",
    "    with open(save_dir, 'wb') as f:\n",
    "        f.write(r.content)\n",
    "    \n",
    "    return save_dir"
   ]
  },
  {
   "cell_type": "code",
   "execution_count": 10,
   "id": "78d9699e-1f1f-492e-8928-305778ff3776",
   "metadata": {},
   "outputs": [],
   "source": [
    "df_merg_dict = df_merged.set_index('id_str').to_dict(orient = 'index')\n",
    "# df_merg_dict"
   ]
  },
  {
   "cell_type": "code",
   "execution_count": 11,
   "id": "fc2439ae-a19a-4772-bcfd-b53585a76185",
   "metadata": {},
   "outputs": [],
   "source": [
    "df_tmp = df_merged.assign(local_paths = df_merged.id_str.apply(lambda x: f'E:/GZ-DESI/images/mergers/{x}-cutout.fits'))"
   ]
  },
  {
   "cell_type": "code",
   "execution_count": 12,
   "id": "0ca669cd-1d58-4ee9-9ef4-9e050a88fe3c",
   "metadata": {},
   "outputs": [
    {
     "name": "stderr",
     "output_type": "stream",
     "text": [
      "100%|██████████| 185278/185278 [01:29<00:00, 2065.14it/s]\n"
     ]
    }
   ],
   "source": [
    "df_exists = (\n",
    "    df_tmp\n",
    "    .assign(existing = df_tmp.local_paths.progress_apply(lambda x: os.path.exists(x)))\n",
    ")"
   ]
  },
  {
   "cell_type": "code",
   "execution_count": 13,
   "id": "e2431b54-36b6-40d3-905f-144a89fbb038",
   "metadata": {},
   "outputs": [
    {
     "data": {
      "text/plain": [
       "True     172254\n",
       "False     13024\n",
       "Name: existing, dtype: int64"
      ]
     },
     "execution_count": 13,
     "metadata": {},
     "output_type": "execute_result"
    }
   ],
   "source": [
    "df_exists.existing.value_counts()"
   ]
  },
  {
   "cell_type": "code",
   "execution_count": 14,
   "id": "9f0fbe31-eeb5-468e-bc02-46108a1963bc",
   "metadata": {},
   "outputs": [],
   "source": [
    "df_red = df_exists.query('existing == False').drop(columns = ['local_paths', 'existing'])"
   ]
  },
  {
   "cell_type": "code",
   "execution_count": 15,
   "id": "643bc4bb-1790-4271-90e2-4a3662c2e6c6",
   "metadata": {},
   "outputs": [],
   "source": [
    "# df_merg_dict = df_red.set_index('id_str').to_dict(orient = 'index')"
   ]
  },
  {
   "cell_type": "code",
   "execution_count": 16,
   "id": "05ce56f0-9d89-41e3-ab4b-1d61ca02d8b1",
   "metadata": {},
   "outputs": [],
   "source": [
    "# paths_dict = {}\n",
    "# for i in tqdm(list(df_merg_dict.keys())):\n",
    "#     paths_dict[i] = get_fits([df_merg_dict[i]['ra'], df_merg_dict[i]['dec'], i])"
   ]
  },
  {
   "cell_type": "code",
   "execution_count": 17,
   "id": "c83001ae-d3dd-442f-aecf-3d321a41836a",
   "metadata": {},
   "outputs": [],
   "source": [
    "# df_merged_paths = (\n",
    "#     df_merged\n",
    "#     .assign(fits_path = df_merged.progress_apply(lambda row: get_fits([row.ra, row.dec, row.id_str], 'mergers'), axis = 1))\n",
    "# )"
   ]
  },
  {
   "cell_type": "code",
   "execution_count": 24,
   "id": "5dc4b738-9cd1-42be-8043-e6cd72e7083e",
   "metadata": {},
   "outputs": [
    {
     "name": "stdout",
     "output_type": "stream",
     "text": [
      "Progress is 100.0%.\n"
     ]
    }
   ],
   "source": [
    "files = glob.glob('E:/GZ-DESI/images/mergers/*-cutout.fits')\n",
    "progress_check = len(files) / len(df_merged)\n",
    "print(f'Progress is {progress_check * 100}%.')"
   ]
  },
  {
   "cell_type": "code",
   "execution_count": 19,
   "id": "913859f6-2205-441d-9abf-97e19966c122",
   "metadata": {},
   "outputs": [],
   "source": [
    "# files"
   ]
  },
  {
   "cell_type": "code",
   "execution_count": 20,
   "id": "e3e6cc3e-caae-488a-a9a2-9dca6b2ae6da",
   "metadata": {},
   "outputs": [],
   "source": [
    "# results = Parallel(n_jobs=4)(delayed(get_fits)(i) for i in tqdm(zip(df_merged['ra'], df_merged['dec'],df_merged['id_str'])))"
   ]
  },
  {
   "cell_type": "code",
   "execution_count": 21,
   "id": "3874c187-e567-4b62-a856-f56ce612a4b0",
   "metadata": {},
   "outputs": [],
   "source": [
    "ddf = dd.from_pandas(df_red, npartitions = 8)"
   ]
  },
  {
   "cell_type": "code",
   "execution_count": 22,
   "id": "9bd54af9-8266-43a7-ae49-ffd91e1985b2",
   "metadata": {},
   "outputs": [
    {
     "name": "stderr",
     "output_type": "stream",
     "text": [
      "C:\\Users\\oryan\\AppData\\Local\\Continuum\\anaconda3\\lib\\site-packages\\dask\\dataframe\\core.py:6088: FutureWarning: Meta is not valid, `map_partitions` expects output to be a pandas object. Try passing a pandas object as meta or a dict or tuple representing the (name, dtype) of the columns. In the future the meta you passed will not work.\n",
      "  FutureWarning,\n"
     ]
    }
   ],
   "source": [
    "dask_series = ddf.apply(get_fits, axis = 1, meta = 'string')\n",
    "ddf['im_paths'] = dask_series"
   ]
  },
  {
   "cell_type": "code",
   "execution_count": 23,
   "id": "9957e7a8-b22c-4e9e-8b88-3726735a5ee6",
   "metadata": {},
   "outputs": [
    {
     "name": "stdout",
     "output_type": "stream",
     "text": [
      "[########################################] | 100% Completed |  1hr 20min 45.7s\n"
     ]
    },
    {
     "data": {
      "text/html": [
       "<div>\n",
       "<style scoped>\n",
       "    .dataframe tbody tr th:only-of-type {\n",
       "        vertical-align: middle;\n",
       "    }\n",
       "\n",
       "    .dataframe tbody tr th {\n",
       "        vertical-align: top;\n",
       "    }\n",
       "\n",
       "    .dataframe thead th {\n",
       "        text-align: right;\n",
       "    }\n",
       "</style>\n",
       "<table border=\"1\" class=\"dataframe\">\n",
       "  <thead>\n",
       "    <tr style=\"text-align: right;\">\n",
       "      <th></th>\n",
       "      <th>id_str</th>\n",
       "      <th>ra</th>\n",
       "      <th>dec</th>\n",
       "      <th>im_paths</th>\n",
       "    </tr>\n",
       "  </thead>\n",
       "  <tbody>\n",
       "    <tr>\n",
       "      <th>68402</th>\n",
       "      <td>49620_2679</td>\n",
       "      <td>56.881606</td>\n",
       "      <td>-58.227757</td>\n",
       "      <td>E:/GZ-DESI/images/mergers/49620_2679-cutout.fits</td>\n",
       "    </tr>\n",
       "    <tr>\n",
       "      <th>68403</th>\n",
       "      <td>51151_791</td>\n",
       "      <td>57.405297</td>\n",
       "      <td>-57.835407</td>\n",
       "      <td>E:/GZ-DESI/images/mergers/51151_791-cutout.fits</td>\n",
       "    </tr>\n",
       "    <tr>\n",
       "      <th>68404</th>\n",
       "      <td>447498_2823</td>\n",
       "      <td>9.277042</td>\n",
       "      <td>20.781403</td>\n",
       "      <td>E:/GZ-DESI/images/mergers/447498_2823-cutout.fits</td>\n",
       "    </tr>\n",
       "    <tr>\n",
       "      <th>68405</th>\n",
       "      <td>447498_2757</td>\n",
       "      <td>9.291057</td>\n",
       "      <td>20.781243</td>\n",
       "      <td>E:/GZ-DESI/images/mergers/447498_2757-cutout.fits</td>\n",
       "    </tr>\n",
       "    <tr>\n",
       "      <th>68406</th>\n",
       "      <td>448846_1830</td>\n",
       "      <td>9.191563</td>\n",
       "      <td>20.970002</td>\n",
       "      <td>E:/GZ-DESI/images/mergers/448846_1830-cutout.fits</td>\n",
       "    </tr>\n",
       "  </tbody>\n",
       "</table>\n",
       "</div>"
      ],
      "text/plain": [
       "            id_str         ra        dec  \\\n",
       "68402   49620_2679  56.881606 -58.227757   \n",
       "68403    51151_791  57.405297 -57.835407   \n",
       "68404  447498_2823   9.277042  20.781403   \n",
       "68405  447498_2757   9.291057  20.781243   \n",
       "68406  448846_1830   9.191563  20.970002   \n",
       "\n",
       "                                                im_paths  \n",
       "68402   E:/GZ-DESI/images/mergers/49620_2679-cutout.fits  \n",
       "68403    E:/GZ-DESI/images/mergers/51151_791-cutout.fits  \n",
       "68404  E:/GZ-DESI/images/mergers/447498_2823-cutout.fits  \n",
       "68405  E:/GZ-DESI/images/mergers/447498_2757-cutout.fits  \n",
       "68406  E:/GZ-DESI/images/mergers/448846_1830-cutout.fits  "
      ]
     },
     "execution_count": 23,
     "metadata": {},
     "output_type": "execute_result"
    }
   ],
   "source": [
    "with ProgressBar():\n",
    "    df_merged_paths = ddf.compute()\n",
    "df_merged_paths.head()"
   ]
  },
  {
   "cell_type": "code",
   "execution_count": null,
   "id": "792e91c8-7ece-4c4f-86f9-f31f5073a8e7",
   "metadata": {},
   "outputs": [],
   "source": [
    "# df_merged_paths = (\n",
    "#     df_merged\n",
    "#     .assign(fits_path = df_merged.progress_apply(lambda row: get_fits(row.ra, row.dec, row.id_str, 'mergers'), axis = 1))\n",
    "# )"
   ]
  }
 ],
 "metadata": {
  "kernelspec": {
   "display_name": "Python 3 (ipykernel)",
   "language": "python",
   "name": "python3"
  },
  "language_info": {
   "codemirror_mode": {
    "name": "ipython",
    "version": 3
   },
   "file_extension": ".py",
   "mimetype": "text/x-python",
   "name": "python",
   "nbconvert_exporter": "python",
   "pygments_lexer": "ipython3",
   "version": "3.7.13"
  }
 },
 "nbformat": 4,
 "nbformat_minor": 5
}
