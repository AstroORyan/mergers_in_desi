{
 "cells": [
  {
   "cell_type": "code",
   "execution_count": 1,
   "id": "f478d3ba-60c8-4813-9fe0-a44712bd255b",
   "metadata": {},
   "outputs": [],
   "source": [
    "import pandas as pd\n",
    "from tqdm import tqdm\n",
    "tqdm.pandas()\n",
    "import numpy as np\n",
    "import seaborn as sns\n",
    "import matplotlib.pyplot as plt\n",
    "\n",
    "from astropy.cosmology import FlatLambdaCDM, z_at_value\n",
    "import astropy.units as u"
   ]
  },
  {
   "cell_type": "markdown",
   "id": "de5a9495-e92e-4cbf-8031-35a6f823887f",
   "metadata": {},
   "source": [
    "### Setting up Cosmology"
   ]
  },
  {
   "cell_type": "code",
   "execution_count": 2,
   "id": "461db10d-fe79-4d75-b848-9fbc4033a0fc",
   "metadata": {},
   "outputs": [],
   "source": [
    "global cosmo\n",
    "cosmo = FlatLambdaCDM(H0=67.8 * u.km / u.s / u.Mpc, Tcmb0=2.275 * u.K, Om0 = 0.308)"
   ]
  },
  {
   "cell_type": "markdown",
   "id": "43037bd7-f0c9-4967-8535-059be6eb1f25",
   "metadata": {},
   "source": [
    "### Imports"
   ]
  },
  {
   "cell_type": "code",
   "execution_count": 3,
   "id": "a88df620-7a82-4913-a634-a760a63f352a",
   "metadata": {},
   "outputs": [],
   "source": [
    "folder = 'E:/GZ-DESI/data'"
   ]
  },
  {
   "cell_type": "code",
   "execution_count": 4,
   "id": "95abd015-bdc3-422b-aad8-73dcc6a9ffa2",
   "metadata": {},
   "outputs": [],
   "source": [
    "df_int = pd.read_parquet(f'{folder}/2023-03-15-cats/definitive-merged-interesting-params.parquet', engine = 'pyarrow')"
   ]
  },
  {
   "cell_type": "code",
   "execution_count": 5,
   "id": "b0b4ecfd-5df1-4536-9f69-5baafb4ad6b7",
   "metadata": {},
   "outputs": [],
   "source": [
    "df_noint = pd.read_parquet(\n",
    "    f'{folder}/2023-03-15-cats/definitive-not-merged-interesting-params.parquet', \n",
    "    engine = 'pyarrow', \n",
    "    columns = ['id_str', 'category', 'redshift', 'elpetro_mass_log', 'log_m_bh','log_bolometric_l', 'total_sfr_avg']\n",
    ")"
   ]
  },
  {
   "cell_type": "code",
   "execution_count": 6,
   "id": "489a8168-55ab-4fd6-9e18-6fea66d33f6c",
   "metadata": {},
   "outputs": [
    {
     "data": {
      "text/plain": [
       "['id_str',\n",
       " 'merging_none_fraction',\n",
       " 'merging_minor-disturbance_fraction',\n",
       " 'merging_major-disturbance_fraction',\n",
       " 'merging_merger_fraction',\n",
       " 'category',\n",
       " 'ra',\n",
       " 'dec',\n",
       " 'log_l_ha',\n",
       " 'log_l_oiii',\n",
       " 'photo_z',\n",
       " 'spec_z',\n",
       " 'redshift',\n",
       " 'redshift_nsa',\n",
       " 'total_sfr_avg',\n",
       " 'elpetro_mass',\n",
       " 'logMH',\n",
       " 'elpetro_mass_log',\n",
       " 'log_m_bh',\n",
       " 'log_bolometric_l']"
      ]
     },
     "execution_count": 6,
     "metadata": {},
     "output_type": "execute_result"
    }
   ],
   "source": [
    "list(df_int.columns)"
   ]
  },
  {
   "cell_type": "markdown",
   "id": "0838759f-a5d5-4345-88e3-c08794c99726",
   "metadata": {},
   "source": [
    "### Checking Redshift Distribution"
   ]
  },
  {
   "cell_type": "code",
   "execution_count": 7,
   "id": "5dab2e45-9b6b-4d15-ad47-040f51b7fcbf",
   "metadata": {},
   "outputs": [],
   "source": [
    "df_z = df_int[['id_str', 'category', 'redshift']]"
   ]
  },
  {
   "cell_type": "code",
   "execution_count": 8,
   "id": "39f73edd-12e7-42cb-9402-89268af086d7",
   "metadata": {},
   "outputs": [],
   "source": [
    "df_z_dna = df_z.dropna()"
   ]
  },
  {
   "cell_type": "code",
   "execution_count": 9,
   "id": "d13653eb-8884-447f-9f4a-2655a9f59e11",
   "metadata": {},
   "outputs": [
    {
     "data": {
      "text/plain": [
       "<AxesSubplot:ylabel='Frequency'>"
      ]
     },
     "execution_count": 9,
     "metadata": {},
     "output_type": "execute_result"
    },
    {
     "data": {
      "image/png": "[encoded data removed]",
      "text/plain": [
       "<Figure size 640x480 with 1 Axes>"
      ]
     },
     "metadata": {},
     "output_type": "display_data"
    }
   ],
   "source": [
    "df_z_dna.plot.hist(\n",
    "    by = 'redshift',\n",
    "    bins = 25,\n",
    "    xlabel = 'redshift',\n",
    "    histtype = 'step',\n",
    "    color='black'\n",
    ")"
   ]
  },
  {
   "cell_type": "markdown",
   "id": "cd27ec0d-63f7-46bd-8572-306c9e27c2f7",
   "metadata": {},
   "source": [
    "### Defining Units of Co-Moving Distances"
   ]
  },
  {
   "cell_type": "code",
   "execution_count": 10,
   "id": "1fd55326-732b-46a2-9239-b318e206f0d5",
   "metadata": {},
   "outputs": [],
   "source": [
    "df_no_int_z = df_noint[['id_str','category', 'redshift']].dropna()\n",
    "del df_noint"
   ]
  },
  {
   "cell_type": "code",
   "execution_count": 11,
   "id": "a11bbb11-a524-4e5d-bedf-d85b29ab8d1f",
   "metadata": {},
   "outputs": [],
   "source": [
    "df_com = (\n",
    "    df_z_dna\n",
    "    .assign(com_dist = df_z_dna.redshift.apply(lambda x: cosmo.comoving_distance(x)))\n",
    ")"
   ]
  },
  {
   "cell_type": "code",
   "execution_count": 12,
   "id": "2c824d3e-e07e-4e1b-82f5-a96e08a29025",
   "metadata": {},
   "outputs": [
    {
     "name": "stderr",
     "output_type": "stream",
     "text": [
      "100%|██████████| 7189642/7189642 [04:52<00:00, 24572.17it/s]\n"
     ]
    }
   ],
   "source": [
    "df_noint_com = (\n",
    "    df_no_int_z\n",
    "    .assign(com_dist = df_no_int_z.redshift.progress_apply(lambda x: cosmo.comoving_distance(x)))\n",
    ")"
   ]
  },
  {
   "cell_type": "code",
   "execution_count": 13,
   "id": "377df3b6-9802-425f-83c0-d6bb5af9404a",
   "metadata": {},
   "outputs": [],
   "source": [
    "mini = 0\n",
    "# maxi = float(cosmo.comoving_distance(1) / u.Mpc)"
   ]
  },
  {
   "cell_type": "code",
   "execution_count": 108,
   "id": "e37a4172-1d69-4ca0-a7d6-1ace4bb3866d",
   "metadata": {},
   "outputs": [],
   "source": [
    "bins_z = np.linspace(0.1,1,10)\n",
    "bins = cosmo.comoving_distance(bins_z) / u.Mpc"
   ]
  },
  {
   "cell_type": "code",
   "execution_count": 109,
   "id": "23e14fa3-f3fa-4a2a-94a4-4443cdda45cc",
   "metadata": {},
   "outputs": [],
   "source": [
    "def find_bin(d, bins):\n",
    "    nbin = np.where(float(d / u.Mpc) <= bins)[0][0]\n",
    "    nbin -= 1\n",
    "    return nbin"
   ]
  },
  {
   "cell_type": "code",
   "execution_count": 110,
   "id": "61cb918d-e99e-42df-9e7f-b343a9555964",
   "metadata": {},
   "outputs": [
    {
     "name": "stderr",
     "output_type": "stream",
     "text": [
      "100%|██████████| 179604/179604 [00:06<00:00, 28613.53it/s]\n"
     ]
    }
   ],
   "source": [
    "df_com_bins = (\n",
    "    df_com\n",
    "    .assign(nbin = df_com.com_dist.progress_apply(lambda x: find_bin(x, bins)))\n",
    ")"
   ]
  },
  {
   "cell_type": "code",
   "execution_count": 111,
   "id": "19979d01-08fb-43ca-93b8-42104dd63a92",
   "metadata": {},
   "outputs": [
    {
     "name": "stderr",
     "output_type": "stream",
     "text": [
      "100%|██████████| 7189622/7189622 [05:26<00:00, 22031.41it/s]\n"
     ]
    }
   ],
   "source": [
    "df_noint_val = df_noint_com.query('redshift <= 1.0')\n",
    "df_noint_com_bins = (\n",
    "    df_noint_val\n",
    "    .assign(nbin = df_noint_val.com_dist.progress_apply(lambda x: find_bin(x, bins)))\n",
    ")"
   ]
  },
  {
   "cell_type": "code",
   "execution_count": 112,
   "id": "a935ead0-58c3-4aba-bb91-eadb21baf611",
   "metadata": {},
   "outputs": [
    {
     "name": "stderr",
     "output_type": "stream",
     "text": [
      "100%|██████████| 10/10 [00:01<00:00,  9.02it/s]\n"
     ]
    }
   ],
   "source": [
    "fractions = []\n",
    "for i in tqdm(range(len(bins))):\n",
    "    n_int_gals = len(df_com_bins.query('nbin == @i'))\n",
    "    n_non_int_gals = len(df_noint_com_bins.query('nbin == @i'))\n",
    "    \n",
    "    if n_non_int_gals == 0 or n_int_gals == 0:\n",
    "        fractions.append(np.nan)\n",
    "        continue\n",
    "    \n",
    "    fraction = n_int_gals / n_non_int_gals\n",
    "    \n",
    "    fractions.append(fraction)\n",
    "    \n",
    "frac_arr = np.asarray(fractions)"
   ]
  },
  {
   "cell_type": "code",
   "execution_count": 113,
   "id": "4839c859-daf1-45c6-af88-849ecec920f6",
   "metadata": {},
   "outputs": [
    {
     "data": {
      "image/png": "[encoded data removed]",
      "text/plain": [
       "<Figure size 800x800 with 1 Axes>"
      ]
     },
     "metadata": {},
     "output_type": "display_data"
    }
   ],
   "source": [
    "fig, ax1 = plt.subplots(figsize = (8,8))\n",
    "ax1.scatter(bins, fractions, s=5, color='black')\n",
    "ax1.set_xlabel('Co-Moving Distance (Mpc)')\n",
    "plt.show()"
   ]
  },
  {
   "cell_type": "code",
   "execution_count": 114,
   "id": "456b9db1-b560-46a5-96ab-005e2a49bb96",
   "metadata": {},
   "outputs": [
    {
     "data": {
      "image/png": "[encoded data removed]",
      "text/plain": [
       "<Figure size 800x800 with 1 Axes>"
      ]
     },
     "metadata": {},
     "output_type": "display_data"
    }
   ],
   "source": [
    "fig, ax1 = plt.subplots(figsize = (8,8))\n",
    "ax1.scatter(bins_z, fractions, s=5, color='black')\n",
    "ax1.set_xlabel('Redshift')\n",
    "plt.show()"
   ]
  },
  {
   "cell_type": "code",
   "execution_count": 115,
   "id": "aa29008a-619d-4e8f-a319-422cffda4f1c",
   "metadata": {},
   "outputs": [
    {
     "data": {
      "text/plain": [
       "0.1"
      ]
     },
     "execution_count": 115,
     "metadata": {},
     "output_type": "execute_result"
    }
   ],
   "source": [
    "redshift_bin = bins_z[1] - bins_z[0]\n",
    "redshift_bin"
   ]
  },
  {
   "cell_type": "code",
   "execution_count": 116,
   "id": "a6fbee2c-f82f-4634-a111-a8047b3984e8",
   "metadata": {},
   "outputs": [
    {
     "data": {
      "text/latex": [
       "$410.44994 \\; \\mathrm{Mpc}$"
      ],
      "text/plain": [
       "<Quantity 410.44994035 Mpc>"
      ]
     },
     "execution_count": 116,
     "metadata": {},
     "output_type": "execute_result"
    }
   ],
   "source": [
    "d_bin = bins[1] - bins[0]\n",
    "d_bin * u.Mpc"
   ]
  },
  {
   "cell_type": "markdown",
   "id": "37d837e7-aa22-4843-9c79-0acd2f50df8c",
   "metadata": {},
   "source": [
    "## Calculating Merger Rates"
   ]
  },
  {
   "cell_type": "markdown",
   "id": "74b6ec44-3fe7-45b4-8090-f32033835765",
   "metadata": {},
   "source": [
    "So, to calculate the merger rate we need to follow the methodology of Lotz et al. 2011. The equation for merger rate is:\n",
    "\n",
    "    Lambda_merg = number density of merger candidates / average T from encounter to coalescence.\n",
    "    \n",
    "Or, we can calculate the fractional merger rate, given by:\n",
    "\n",
    "    R_merg = C_merg * f_pair / average coalescence time.\n",
    "    \n",
    "So, what do we get?"
   ]
  },
  {
   "cell_type": "markdown",
   "id": "0bbf7471-09cf-4dd5-914b-bac0f389a48f",
   "metadata": {},
   "source": [
    "They find that for stellar masses >= 10^{10} solar masses, average coalescence time = 0.21 Gyrs."
   ]
  },
  {
   "cell_type": "markdown",
   "id": "f661adc4-fca2-4634-a9cc-e096694f0339",
   "metadata": {},
   "source": [
    "### Assuming all are above Stellar Mass 10$^{10}$"
   ]
  },
  {
   "cell_type": "code",
   "execution_count": 117,
   "id": "5f102846-60f5-43e7-8a0c-274760e09c62",
   "metadata": {},
   "outputs": [],
   "source": [
    "comb_df = pd.DataFrame(data = zip(bins, bins_z,fractions)).rename(columns = {0 : 'comoving-dist', 1 : 'redshift',2 : 'fraction'})"
   ]
  },
  {
   "cell_type": "code",
   "execution_count": 118,
   "id": "c212c1b9-aa52-49db-8484-11f02a9e2b52",
   "metadata": {},
   "outputs": [
    {
     "data": {
      "text/html": [
       "<div>\n",
       "<style scoped>\n",
       "    .dataframe tbody tr th:only-of-type {\n",
       "        vertical-align: middle;\n",
       "    }\n",
       "\n",
       "    .dataframe tbody tr th {\n",
       "        vertical-align: top;\n",
       "    }\n",
       "\n",
       "    .dataframe thead th {\n",
       "        text-align: right;\n",
       "    }\n",
       "</style>\n",
       "<table border=\"1\" class=\"dataframe\">\n",
       "  <thead>\n",
       "    <tr style=\"text-align: right;\">\n",
       "      <th></th>\n",
       "      <th>comoving-dist</th>\n",
       "      <th>redshift</th>\n",
       "      <th>fraction</th>\n",
       "    </tr>\n",
       "  </thead>\n",
       "  <tbody>\n",
       "    <tr>\n",
       "      <th>0</th>\n",
       "      <td>431.7729410021839</td>\n",
       "      <td>0.1</td>\n",
       "      <td>0.022014</td>\n",
       "    </tr>\n",
       "    <tr>\n",
       "      <th>1</th>\n",
       "      <td>842.2228813494168</td>\n",
       "      <td>0.2</td>\n",
       "      <td>0.029588</td>\n",
       "    </tr>\n",
       "    <tr>\n",
       "      <th>2</th>\n",
       "      <td>1230.9940556448782</td>\n",
       "      <td>0.3</td>\n",
       "      <td>0.040724</td>\n",
       "    </tr>\n",
       "    <tr>\n",
       "      <th>3</th>\n",
       "      <td>1598.2337740651199</td>\n",
       "      <td>0.4</td>\n",
       "      <td>0.060146</td>\n",
       "    </tr>\n",
       "    <tr>\n",
       "      <th>4</th>\n",
       "      <td>1944.4846766929575</td>\n",
       "      <td>0.5</td>\n",
       "      <td>0.078876</td>\n",
       "    </tr>\n",
       "  </tbody>\n",
       "</table>\n",
       "</div>"
      ],
      "text/plain": [
       "        comoving-dist  redshift  fraction\n",
       "0   431.7729410021839       0.1  0.022014\n",
       "1   842.2228813494168       0.2  0.029588\n",
       "2  1230.9940556448782       0.3  0.040724\n",
       "3  1598.2337740651199       0.4  0.060146\n",
       "4  1944.4846766929575       0.5  0.078876"
      ]
     },
     "execution_count": 118,
     "metadata": {},
     "output_type": "execute_result"
    }
   ],
   "source": [
    "comb_df.head()"
   ]
  },
  {
   "cell_type": "code",
   "execution_count": 119,
   "id": "7ca088fa-d3f5-4fe5-b4a8-f0d0818e0758",
   "metadata": {},
   "outputs": [],
   "source": [
    "def calc_rate(frac):\n",
    "    if frac == np.nan:\n",
    "        return np.nan\n",
    "    else:\n",
    "        return frac / 0.21"
   ]
  },
  {
   "cell_type": "code",
   "execution_count": 120,
   "id": "d8032283-3761-4c13-a187-abaf2dd5114a",
   "metadata": {},
   "outputs": [],
   "source": [
    "rate_df = (\n",
    "    comb_df\n",
    "    .assign(merg_rate = comb_df.fraction.apply(lambda x: calc_rate(x)))\n",
    ")"
   ]
  },
  {
   "cell_type": "code",
   "execution_count": 121,
   "id": "2788a455-6594-47fa-b2e8-8d81ead1b5a6",
   "metadata": {},
   "outputs": [],
   "source": [
    "lotz_major = 0.03 * (1 + bins_z)**1.7\n",
    "lotz_minor = 0.27 * (1 + bins_z)**-0.1"
   ]
  },
  {
   "cell_type": "code",
   "execution_count": 122,
   "id": "1f6b148a-91fe-44e5-86ec-051040ab8e77",
   "metadata": {},
   "outputs": [
    {
     "data": {
      "text/plain": [
       "Text(0.5, 1.0, 'Merger Rate')"
      ]
     },
     "execution_count": 122,
     "metadata": {},
     "output_type": "execute_result"
    },
    {
     "data": {
      "image/png": "[encoded data removed]",
      "text/plain": [
       "<Figure size 800x800 with 1 Axes>"
      ]
     },
     "metadata": {},
     "output_type": "display_data"
    }
   ],
   "source": [
    "fig, ax = plt.subplots(nrows = 1, figsize = (8,8))\n",
    "rate_df.plot.scatter(\n",
    "    x = 'redshift',\n",
    "    y = 'merg_rate',\n",
    "    s=5,\n",
    "    color='black',\n",
    "    ax = ax\n",
    ")\n",
    "ax.scatter(bins_z, lotz_minor, color = 'green', s = 5, label = 'Lotz Minor')\n",
    "ax.scatter(bins_z, lotz_major, color = 'green', s = 5, label = 'Lotz Major')\n",
    "ax.set_xlabel('Redshift')\n",
    "ax.set_ylabel('Merger Rate (Gyr$^{-1}$)')\n",
    "ax.set_title('Merger Rate')"
   ]
  },
  {
   "cell_type": "markdown",
   "id": "c9350ec2-6bab-40d6-a16e-88c54f8b7cf9",
   "metadata": {},
   "source": [
    "### Checking Number Density"
   ]
  },
  {
   "cell_type": "code",
   "execution_count": 123,
   "id": "003d4c50-ddf7-4ff6-a710-f892d3302dac",
   "metadata": {},
   "outputs": [],
   "source": [
    "def find_bin_z(z, bins):\n",
    "    nbin = np.where(float(z) <= bins)[0][0]\n",
    "    nbin -= 1\n",
    "    return nbin"
   ]
  },
  {
   "cell_type": "code",
   "execution_count": 124,
   "id": "4622f365-1eca-44c7-aeb9-6e3c31b83582",
   "metadata": {},
   "outputs": [],
   "source": [
    "df_z_dna_bin = (\n",
    "    df_z_dna\n",
    "    .assign(bins = df_z_dna.redshift.apply(lambda x: find_bin_z(x, bins_z)))\n",
    ")"
   ]
  },
  {
   "cell_type": "code",
   "execution_count": 125,
   "id": "7e167638-4dc6-4c3c-86e1-8e02d8e90502",
   "metadata": {},
   "outputs": [],
   "source": [
    "n = []\n",
    "for i in range(50):\n",
    "    n.append(len(df_z_dna_bin.query('bins == @i')))"
   ]
  },
  {
   "cell_type": "code",
   "execution_count": 126,
   "id": "b27212a9-b21a-488c-9686-5580f13ae45e",
   "metadata": {},
   "outputs": [],
   "source": [
    "df_n = pd.DataFrame(data = zip(bins_z, n)).rename(columns = {0 : 'red_bin', 1 : 'ngals'})"
   ]
  },
  {
   "cell_type": "code",
   "execution_count": 127,
   "id": "38623cd5-a97b-491b-b768-941dee2b9e5c",
   "metadata": {},
   "outputs": [
    {
     "data": {
      "image/png": "[encoded data removed]",
      "text/plain": [
       "<Figure size 640x480 with 1 Axes>"
      ]
     },
     "metadata": {},
     "output_type": "display_data"
    }
   ],
   "source": [
    "fig, ax1 = plt.subplots(nrows = 1)\n",
    "df_n.plot.scatter(\n",
    "    x = 'red_bin',\n",
    "    y = 'ngals',\n",
    "    s = 5,\n",
    "    ax = ax1\n",
    ")\n",
    "ax1.set_xlabel('Redshift Bin')\n",
    "ax1.set_ylabel('Number of Galaxies')\n",
    "ax1.set_title('Galaxy N Density')\n",
    "plt.show()"
   ]
  },
  {
   "cell_type": "code",
   "execution_count": 128,
   "id": "da143754-a407-4142-a7ee-bb62cdb9962c",
   "metadata": {},
   "outputs": [],
   "source": [
    "comoving_volume = cosmo.comoving_volume(bins_z)"
   ]
  },
  {
   "cell_type": "code",
   "execution_count": 129,
   "id": "69a7fa6e-cc98-4022-a6b8-e64cddd85a5b",
   "metadata": {},
   "outputs": [
    {
     "data": {
      "text/latex": [
       "$[3.3717462 \\times 10^{8},~2.5024748 \\times 10^{9},~7.8136954 \\times 10^{9},~1.7100528 \\times 10^{10},~3.0796558 \\times 10^{10},~4.9033852 \\times 10^{10},~7.172886 \\times 10^{10},~9.8654056 \\times 10^{10},~1.2949397 \\times 10^{11},~1.6388675 \\times 10^{11}] \\; \\mathrm{Mpc^{3}}$"
      ],
      "text/plain": [
       "<Quantity [3.37174619e+08, 2.50247483e+09, 7.81369539e+09, 1.71005281e+10,\n",
       "           3.07965583e+10, 4.90338525e+10, 7.17288596e+10, 9.86540556e+10,\n",
       "           1.29493970e+11, 1.63886751e+11] Mpc3>"
      ]
     },
     "execution_count": 129,
     "metadata": {},
     "output_type": "execute_result"
    }
   ],
   "source": [
    "comoving_volume"
   ]
  },
  {
   "cell_type": "code",
   "execution_count": 130,
   "id": "cd610a3c-fff0-4338-8900-37dee26c142b",
   "metadata": {},
   "outputs": [],
   "source": [
    "gal_density = list(df_n.ngals) / comoving_volume"
   ]
  },
  {
   "cell_type": "code",
   "execution_count": 131,
   "id": "2bf478ae-47e8-433f-ad2c-528f692a0886",
   "metadata": {},
   "outputs": [
    {
     "data": {
      "image/png": "[encoded data removed]",
      "text/plain": [
       "<Figure size 800x800 with 1 Axes>"
      ]
     },
     "metadata": {},
     "output_type": "display_data"
    }
   ],
   "source": [
    "plt.figure(figsize = (8,8))\n",
    "plt.scatter(bins_z, gal_density / 1e-3, color = 'black', s =5)\n",
    "plt.show()"
   ]
  },
  {
   "cell_type": "code",
   "execution_count": null,
   "id": "6b5af7b0-f2b9-4405-9ded-6433c324d809",
   "metadata": {},
   "outputs": [],
   "source": []
  }
 ],
 "metadata": {
  "kernelspec": {
   "display_name": "Python 3 (ipykernel)",
   "language": "python",
   "name": "python3"
  },
  "language_info": {
   "codemirror_mode": {
    "name": "ipython",
    "version": 3
   },
   "file_extension": ".py",
   "mimetype": "text/x-python",
   "name": "python",
   "nbconvert_exporter": "python",
   "pygments_lexer": "ipython3",
   "version": "3.7.13"
  }
 },
 "nbformat": 4,
 "nbformat_minor": 5
}
